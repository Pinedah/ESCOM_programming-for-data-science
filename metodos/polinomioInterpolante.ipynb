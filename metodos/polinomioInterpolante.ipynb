{
 "cells": [
  {
   "cell_type": "code",
   "execution_count": 1,
   "metadata": {},
   "outputs": [
    {
     "ename": "ValueError",
     "evalue": "operands could not be broadcast together with shapes (10,) (2,) (10,) ",
     "output_type": "error",
     "traceback": [
      "\u001b[1;31m---------------------------------------------------------------------------\u001b[0m",
      "\u001b[1;31mValueError\u001b[0m                                Traceback (most recent call last)",
      "Cell \u001b[1;32mIn[1], line 49\u001b[0m\n\u001b[0;32m     46\u001b[0m x_points \u001b[38;5;241m=\u001b[39m [\u001b[38;5;241m0\u001b[39m, \u001b[38;5;241m1\u001b[39m, \u001b[38;5;241m5.5\u001b[39m, \u001b[38;5;241m10\u001b[39m, \u001b[38;5;241m12\u001b[39m, \u001b[38;5;241m14\u001b[39m, \u001b[38;5;241m16\u001b[39m, \u001b[38;5;241m18\u001b[39m, \u001b[38;5;241m20\u001b[39m, \u001b[38;5;241m24\u001b[39m]\n\u001b[0;32m     47\u001b[0m y_points \u001b[38;5;241m=\u001b[39m [\u001b[38;5;241m1\u001b[39m, \u001b[38;5;241m1.5\u001b[39m, \u001b[38;5;241m2.3\u001b[39m, \u001b[38;5;241m2.1\u001b[39m, \u001b[38;5;241m4\u001b[39m, \u001b[38;5;241m5\u001b[39m, \u001b[38;5;241m5.5\u001b[39m, \u001b[38;5;241m5\u001b[39m, \u001b[38;5;241m3\u001b[39m, \u001b[38;5;241m1.2\u001b[39m]\n\u001b[1;32m---> 49\u001b[0m coeficientes \u001b[38;5;241m=\u001b[39m \u001b[43mlagrange_interpolation\u001b[49m\u001b[43m(\u001b[49m\u001b[43mx_points\u001b[49m\u001b[43m,\u001b[49m\u001b[43m \u001b[49m\u001b[43my_points\u001b[49m\u001b[43m)\u001b[49m\n\u001b[0;32m     50\u001b[0m imprimir_polinomio(coeficientes)\n",
      "Cell \u001b[1;32mIn[1], line 23\u001b[0m, in \u001b[0;36mlagrange_interpolation\u001b[1;34m(x_points, y_points)\u001b[0m\n\u001b[0;32m     21\u001b[0m \u001b[38;5;28;01mfor\u001b[39;00m j \u001b[38;5;129;01min\u001b[39;00m \u001b[38;5;28mrange\u001b[39m(n):\n\u001b[0;32m     22\u001b[0m     \u001b[38;5;28;01mif\u001b[39;00m i \u001b[38;5;241m!=\u001b[39m j:\n\u001b[1;32m---> 23\u001b[0m         \u001b[43mL\u001b[49m\u001b[43m \u001b[49m\u001b[38;5;241;43m*\u001b[39;49m\u001b[38;5;241;43m=\u001b[39;49m\u001b[43m \u001b[49m\u001b[43mnp\u001b[49m\u001b[38;5;241;43m.\u001b[39;49m\u001b[43mpoly1d\u001b[49m\u001b[43m(\u001b[49m\u001b[43m[\u001b[49m\u001b[38;5;241;43m1\u001b[39;49m\u001b[43m,\u001b[49m\u001b[43m \u001b[49m\u001b[38;5;241;43m-\u001b[39;49m\u001b[43mx_points\u001b[49m\u001b[43m[\u001b[49m\u001b[43mj\u001b[49m\u001b[43m]\u001b[49m\u001b[43m]\u001b[49m\u001b[43m)\u001b[49m\u001b[43m \u001b[49m\u001b[38;5;241;43m/\u001b[39;49m\u001b[43m \u001b[49m\u001b[43m(\u001b[49m\u001b[43mx_points\u001b[49m\u001b[43m[\u001b[49m\u001b[43mi\u001b[49m\u001b[43m]\u001b[49m\u001b[43m \u001b[49m\u001b[38;5;241;43m-\u001b[39;49m\u001b[43m \u001b[49m\u001b[43mx_points\u001b[49m\u001b[43m[\u001b[49m\u001b[43mj\u001b[49m\u001b[43m]\u001b[49m\u001b[43m)\u001b[49m\n\u001b[0;32m     25\u001b[0m \u001b[38;5;66;03m# Se agrega el término correspondiente en el polinomio\u001b[39;00m\n\u001b[0;32m     26\u001b[0m coeficientes \u001b[38;5;241m+\u001b[39m\u001b[38;5;241m=\u001b[39m y_points[i] \u001b[38;5;241m*\u001b[39m L\u001b[38;5;241m.\u001b[39mcoefficients\n",
      "\u001b[1;31mValueError\u001b[0m: operands could not be broadcast together with shapes (10,) (2,) (10,) "
     ]
    }
   ],
   "source": [
    "import numpy as np\n",
    "\n",
    "def lagrange_interpolation(x_points, y_points):\n",
    "    \"\"\"\n",
    "    Interpolación polinómica de Lagrange.\n",
    "    \n",
    "    Parámetros:\n",
    "    x_points: Lista de valores de x.\n",
    "    y_points: Lista de valores de y (correspondientes a cada valor de x).\n",
    "    \n",
    "    Retorna:\n",
    "    El polinomio interpolante como una lista de coeficientes (a0, a1, ..., an).\n",
    "    \"\"\"\n",
    "    n = len(x_points)\n",
    "    coeficientes = np.zeros(n)\n",
    "    \n",
    "    for i in range(n):\n",
    "        # Coeficiente para el polinomio L_i(x)\n",
    "        L = np.ones(n)\n",
    "        \n",
    "        for j in range(n):\n",
    "            if i != j:\n",
    "                L *= np.poly1d([1, -x_points[j]]) / (x_points[i] - x_points[j])\n",
    "        \n",
    "        # Se agrega el término correspondiente en el polinomio\n",
    "        coeficientes += y_points[i] * L.coefficients\n",
    "    \n",
    "    return coeficientes\n",
    "\n",
    "def imprimir_polinomio(coeficientes):\n",
    "    \"\"\"\n",
    "    Imprime el polinomio interpolante de la forma p(x) = a0x^0 + a1x + a2x^2 + ... + anx^n\n",
    "    \"\"\"\n",
    "    n = len(coeficientes)\n",
    "    polinomio = \"\"\n",
    "    \n",
    "    for i in range(n):\n",
    "        if coeficientes[i] != 0:\n",
    "            polinomio += f\"{coeficientes[i]:.4f}x^{n-i-1} \"\n",
    "            if i < n - 1:\n",
    "                polinomio += \"+ \"\n",
    "    \n",
    "    print(f\"El polinomio interpolante es: p(x) = {polinomio}\")\n",
    "\n",
    "# Ejemplo de uso\n",
    "x_points = [0, 1, 5.5, 10, 12, 14, 16, 18, 20, 24]\n",
    "y_points = [1, 1.5, 2.3, 2.1, 4, 5, 5.5, 5, 3, 1.2]\n",
    "\n",
    "coeficientes = lagrange_interpolation(x_points, y_points)\n",
    "imprimir_polinomio(coeficientes)\n"
   ]
  }
 ],
 "metadata": {
  "kernelspec": {
   "display_name": ".venv",
   "language": "python",
   "name": "python3"
  },
  "language_info": {
   "codemirror_mode": {
    "name": "ipython",
    "version": 3
   },
   "file_extension": ".py",
   "mimetype": "text/x-python",
   "name": "python",
   "nbconvert_exporter": "python",
   "pygments_lexer": "ipython3",
   "version": "3.12.3"
  }
 },
 "nbformat": 4,
 "nbformat_minor": 2
}
