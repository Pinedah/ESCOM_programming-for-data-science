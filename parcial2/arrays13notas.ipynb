{
 "cells": [
  {
   "cell_type": "markdown",
   "id": "895b5d97-a88e-4d2d-885a-20554dcc0b5d",
   "metadata": {},
   "source": [
    "# Manipulación de arreglos"
   ]
  },
  {
   "cell_type": "code",
   "execution_count": 2,
   "id": "705981f1-686e-48f4-9c71-45d58a72aaab",
   "metadata": {},
   "outputs": [],
   "source": [
    "import numpy as np\n",
    "import random as r"
   ]
  },
  {
   "cell_type": "code",
   "execution_count": 3,
   "id": "9bbd7e7d-56d4-453f-9f8a-479e119904eb",
   "metadata": {},
   "outputs": [
    {
     "data": {
      "text/plain": [
       "[8, 6, 1, 6, 6, 8, 6, 9, 5, 2]"
      ]
     },
     "execution_count": 3,
     "metadata": {},
     "output_type": "execute_result"
    }
   ],
   "source": [
    "lista = [r.randint(1,10) for _ in range(10)]\n",
    "lista"
   ]
  },
  {
   "cell_type": "code",
   "execution_count": 5,
   "id": "6a88cd94-0ccf-4352-8226-9ca33d468410",
   "metadata": {},
   "outputs": [
    {
     "name": "stdout",
     "output_type": "stream",
     "text": [
      "0 8\n",
      "1 6\n",
      "2 1\n",
      "3 6\n",
      "4 6\n",
      "5 8\n",
      "6 6\n",
      "7 9\n",
      "8 5\n",
      "9 2\n"
     ]
    }
   ],
   "source": [
    "for i, e in enumerate(lista):\n",
    "    print(i, e)"
   ]
  },
  {
   "cell_type": "code",
   "execution_count": 6,
   "id": "24e14e2b-21cc-4fbd-97b9-f01b265112b7",
   "metadata": {},
   "outputs": [
    {
     "name": "stdout",
     "output_type": "stream",
     "text": [
      "8\n",
      "6\n",
      "1\n",
      "6\n",
      "6\n",
      "8\n",
      "6\n",
      "9\n",
      "5\n",
      "2\n"
     ]
    }
   ],
   "source": [
    "for e in iter(lista):\n",
    "    print(e)"
   ]
  },
  {
   "cell_type": "code",
   "execution_count": 9,
   "id": "d0c1b95c-2280-46c2-955e-2115768e83f3",
   "metadata": {},
   "outputs": [
    {
     "data": {
      "text/plain": [
       "array([0, 7, 6, 4, 2, 8, 4, 0, 0, 2], dtype=int32)"
      ]
     },
     "execution_count": 9,
     "metadata": {},
     "output_type": "execute_result"
    }
   ],
   "source": [
    "array = np.random.randint(0,10, 10)\n",
    "array"
   ]
  },
  {
   "cell_type": "code",
   "execution_count": 10,
   "id": "e9d777b2-b5dc-44ec-a8ba-5aa1d0783d47",
   "metadata": {},
   "outputs": [
    {
     "name": "stdout",
     "output_type": "stream",
     "text": [
      "0\n",
      "7\n",
      "6\n",
      "4\n",
      "2\n",
      "8\n",
      "4\n",
      "0\n",
      "0\n",
      "2\n"
     ]
    }
   ],
   "source": [
    "for x in array:\n",
    "    print(x)"
   ]
  },
  {
   "cell_type": "code",
   "execution_count": 32,
   "id": "894ee595-7bcc-4935-b6ea-69997e225a62",
   "metadata": {},
   "outputs": [
    {
     "data": {
      "text/plain": [
       "[2, 2, 9, 8, 5, 5, 10, 6, 11, 6]"
      ]
     },
     "execution_count": 32,
     "metadata": {},
     "output_type": "execute_result"
    }
   ],
   "source": [
    "lista = [r.randint(1,11) for _ in range(10)]\n",
    "lista "
   ]
  },
  {
   "cell_type": "code",
   "execution_count": 11,
   "id": "43a90d1b-1cbc-49b3-8162-3c130c2fc40a",
   "metadata": {},
   "outputs": [
    {
     "data": {
      "text/plain": [
       "array([[4, 0, 6, 3],\n",
       "       [2, 3, 5, 4],\n",
       "       [5, 0, 5, 2]], dtype=int32)"
      ]
     },
     "execution_count": 11,
     "metadata": {},
     "output_type": "execute_result"
    }
   ],
   "source": [
    "array2 = np.random.randint(1,10, (3,4))\n",
    "array2"
   ]
  },
  {
   "cell_type": "code",
   "execution_count": 28,
   "id": "0e35b9f4-58fe-47c1-a3ea-de7193db6223",
   "metadata": {},
   "outputs": [
    {
     "name": "stdout",
     "output_type": "stream",
     "text": [
      "[4 0 6 3]\n",
      "[2 3 5 4]\n",
      "[5 0 5 2]\n"
     ]
    }
   ],
   "source": [
    "for e in array2:\n",
    "    print(e)"
   ]
  },
  {
   "cell_type": "code",
   "execution_count": 31,
   "id": "f578598d-9e04-41b7-8755-f5855a4bbf58",
   "metadata": {},
   "outputs": [
    {
     "name": "stdout",
     "output_type": "stream",
     "text": [
      "4 0 6 3 \n",
      "2 3 5 4 \n",
      "5 0 5 2 \n"
     ]
    }
   ],
   "source": [
    "for e1 in array2:\n",
    "    for e2 in e1:\n",
    "        print(e2, end=' ')\n",
    "    print()"
   ]
  },
  {
   "cell_type": "code",
   "execution_count": 33,
   "id": "73ac5cd7-1f2b-499f-9173-2991542ee0f9",
   "metadata": {},
   "outputs": [
    {
     "data": {
      "text/plain": [
       "array([[[ 3,  2,  5,  2],\n",
       "        [ 4,  9, 10,  4],\n",
       "        [ 4, 10,  9,  8]],\n",
       "\n",
       "       [[10,  8,  3,  4],\n",
       "        [ 5,  4,  7,  4],\n",
       "        [ 3,  7,  8, 10]]], dtype=int32)"
      ]
     },
     "execution_count": 33,
     "metadata": {},
     "output_type": "execute_result"
    }
   ],
   "source": [
    "array3 = np.random.randint(1,11,(2,3,4))\n",
    "array3"
   ]
  },
  {
   "cell_type": "code",
   "execution_count": 35,
   "id": "61c3766f-04c4-4692-b1f0-3d1931a3e694",
   "metadata": {},
   "outputs": [
    {
     "name": "stdout",
     "output_type": "stream",
     "text": [
      "3 2 5 2 4 9 10 4 4 10 9 8 10 8 3 4 5 4 7 4 3 7 8 10 "
     ]
    }
   ],
   "source": [
    "for e in np.nditer(array3):\n",
    "    print(e, end=' ')"
   ]
  },
  {
   "cell_type": "code",
   "execution_count": 36,
   "id": "31ab7a9b-2866-45a6-a6fa-dc68b393def5",
   "metadata": {},
   "outputs": [
    {
     "name": "stdout",
     "output_type": "stream",
     "text": [
      "9 4 25 4 16 81 100 16 16 100 81 64 100 64 9 16 25 16 49 16 9 49 64 100 "
     ]
    }
   ],
   "source": [
    "# Elevados al cuadrado\n",
    "for e in np.nditer(array3):\n",
    "    print(e**2, end=' ')"
   ]
  },
  {
   "cell_type": "code",
   "execution_count": 39,
   "id": "91dd8f0f-640d-45e9-9b87-b51ad9105ce0",
   "metadata": {},
   "outputs": [
    {
     "name": "stdout",
     "output_type": "stream",
     "text": [
      "(0, 0, 0) 3\n",
      "(0, 0, 1) 2\n",
      "(0, 0, 2) 5\n",
      "(0, 0, 3) 2\n",
      "(0, 1, 0) 4\n",
      "(0, 1, 1) 9\n",
      "(0, 1, 2) 10\n",
      "(0, 1, 3) 4\n",
      "(0, 2, 0) 4\n",
      "(0, 2, 1) 10\n",
      "(0, 2, 2) 9\n",
      "(0, 2, 3) 8\n",
      "(1, 0, 0) 10\n",
      "(1, 0, 1) 8\n",
      "(1, 0, 2) 3\n",
      "(1, 0, 3) 4\n",
      "(1, 1, 0) 5\n",
      "(1, 1, 1) 4\n",
      "(1, 1, 2) 7\n",
      "(1, 1, 3) 4\n",
      "(1, 2, 0) 3\n",
      "(1, 2, 1) 7\n",
      "(1, 2, 2) 8\n",
      "(1, 2, 3) 10\n"
     ]
    }
   ],
   "source": [
    "for i, e in np.ndenumerate(array3):\n",
    "    print(i, e)"
   ]
  },
  {
   "cell_type": "code",
   "execution_count": null,
   "id": "2af28ed3-a078-4931-884d-cb405a3990e4",
   "metadata": {},
   "outputs": [],
   "source": []
  }
 ],
 "metadata": {
  "kernelspec": {
   "display_name": "Python 3 (ipykernel)",
   "language": "python",
   "name": "python3"
  },
  "language_info": {
   "codemirror_mode": {
    "name": "ipython",
    "version": 3
   },
   "file_extension": ".py",
   "mimetype": "text/x-python",
   "name": "python",
   "nbconvert_exporter": "python",
   "pygments_lexer": "ipython3",
   "version": "3.12.3"
  }
 },
 "nbformat": 4,
 "nbformat_minor": 5
}
