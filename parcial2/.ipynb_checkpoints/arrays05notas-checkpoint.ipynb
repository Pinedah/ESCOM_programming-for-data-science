{
 "cells": [
  {
   "cell_type": "markdown",
   "id": "ad3d5781-63c1-4122-9f7f-b099578a3e18",
   "metadata": {},
   "source": [
    "# Notas arrays05"
   ]
  },
  {
   "cell_type": "code",
   "execution_count": 1,
   "id": "6e6fd2c7-59c4-4f18-82c0-7ccf8d9af94e",
   "metadata": {},
   "outputs": [],
   "source": [
    "import numpy as np"
   ]
  },
  {
   "cell_type": "code",
   "execution_count": 5,
   "id": "152f493a-7d5f-44bf-ad13-9665cca61b38",
   "metadata": {},
   "outputs": [],
   "source": [
    "# Tensor de una dimension con 16 elementos aleatorios\n",
    "aleatorios = np.random.randint(1, 101, size = 16)"
   ]
  },
  {
   "cell_type": "code",
   "execution_count": 6,
   "id": "f75c5073-2fb9-46c4-88fc-0ca2dc2b41f6",
   "metadata": {},
   "outputs": [
    {
     "data": {
      "text/plain": [
       "array([21, 81, 57, 25, 43, 23, 99,  6, 67, 28, 55, 76, 58, 27, 70, 82],\n",
       "      dtype=int32)"
      ]
     },
     "execution_count": 6,
     "metadata": {},
     "output_type": "execute_result"
    }
   ],
   "source": [
    "aleatorios "
   ]
  },
  {
   "cell_type": "code",
   "execution_count": 11,
   "id": "555c87e2-aa6f-4585-a29b-503efa02652f",
   "metadata": {},
   "outputs": [],
   "source": [
    "# Tensor de dos dimensiones de numeros aleatorios con 4 elementos por dimension \n",
    "aleatorios2 = np.random.randint(1, 101, size = (4, 4))"
   ]
  },
  {
   "cell_type": "code",
   "execution_count": 9,
   "id": "5ec7ab5e-48d5-4d61-aa57-028b12061979",
   "metadata": {},
   "outputs": [
    {
     "data": {
      "text/plain": [
       "array([[51, 60,  3, 74],\n",
       "       [57, 51, 28, 21],\n",
       "       [24, 66, 74, 15],\n",
       "       [21, 35, 40, 74]], dtype=int32)"
      ]
     },
     "execution_count": 9,
     "metadata": {},
     "output_type": "execute_result"
    }
   ],
   "source": [
    "aleatorios2"
   ]
  },
  {
   "cell_type": "code",
   "execution_count": 14,
   "id": "df7848b7-7354-4de6-97e8-d22fc31f00b0",
   "metadata": {},
   "outputs": [],
   "source": [
    "# Re formatear el tensor de 1 dimension en un tensor de 2 dimensiones de 4x4\n",
    "aleatorios3 = aleatorios.reshape(4,4)"
   ]
  },
  {
   "cell_type": "code",
   "execution_count": 16,
   "id": "1a66e688-e599-4b8a-a246-ad5d6de6a6ff",
   "metadata": {},
   "outputs": [
    {
     "data": {
      "text/plain": [
       "(array([21, 81, 57, 25, 43, 23, 99,  6, 67, 28, 55, 76, 58, 27, 70, 82],\n",
       "       dtype=int32),\n",
       " array([[21, 81, 57, 25],\n",
       "        [43, 23, 99,  6],\n",
       "        [67, 28, 55, 76],\n",
       "        [58, 27, 70, 82]], dtype=int32))"
      ]
     },
     "execution_count": 16,
     "metadata": {},
     "output_type": "execute_result"
    }
   ],
   "source": [
    "aleatorios, aleatorios3"
   ]
  },
  {
   "cell_type": "code",
   "execution_count": 21,
   "id": "231201cc-e210-4ff8-b463-44ba5f02e9dd",
   "metadata": {},
   "outputs": [
    {
     "data": {
      "text/plain": [
       "array([[21, 81, 57, 25, 43, 23, 99,  6],\n",
       "       [67, 28, 55, 76, 58, 27, 70, 82]], dtype=int32)"
      ]
     },
     "execution_count": 21,
     "metadata": {},
     "output_type": "execute_result"
    }
   ],
   "source": [
    "# Convertir el tensor de 1 dimension, en uno de 2, con dos filas y 8 columnas\n",
    "aleatorios4 = aleatorios.reshape(2,8)\n",
    "aleatorios4"
   ]
  },
  {
   "cell_type": "code",
   "execution_count": 24,
   "id": "111b0a58-75d4-4354-b256-f50850ab4896",
   "metadata": {},
   "outputs": [
    {
     "data": {
      "text/plain": [
       "array([[21, 81],\n",
       "       [57, 25],\n",
       "       [43, 23],\n",
       "       [99,  6],\n",
       "       [67, 28],\n",
       "       [55, 76],\n",
       "       [58, 27],\n",
       "       [70, 82]], dtype=int32)"
      ]
     },
     "execution_count": 24,
     "metadata": {},
     "output_type": "execute_result"
    }
   ],
   "source": [
    "aleatorios5 = aleatorios.reshape(8,2)\n",
    "aleatorios5"
   ]
  },
  {
   "cell_type": "code",
   "execution_count": null,
   "id": "efb577f3-cd3b-44f8-b459-3eb03d3f44cf",
   "metadata": {},
   "outputs": [],
   "source": []
  }
 ],
 "metadata": {
  "kernelspec": {
   "display_name": "Python 3 (ipykernel)",
   "language": "python",
   "name": "python3"
  },
  "language_info": {
   "codemirror_mode": {
    "name": "ipython",
    "version": 3
   },
   "file_extension": ".py",
   "mimetype": "text/x-python",
   "name": "python",
   "nbconvert_exporter": "python",
   "pygments_lexer": "ipython3",
   "version": "3.12.3"
  }
 },
 "nbformat": 4,
 "nbformat_minor": 5
}
