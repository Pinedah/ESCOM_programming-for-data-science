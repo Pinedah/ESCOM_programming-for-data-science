{
 "cells": [
  {
   "cell_type": "code",
   "execution_count": 1,
   "id": "bbfedde8-4fb9-471a-b816-3779a33d3ce8",
   "metadata": {},
   "outputs": [],
   "source": [
    "import numpy as np"
   ]
  },
  {
   "cell_type": "code",
   "execution_count": 2,
   "id": "04abfe6f-dcf9-4d2e-9c60-00272dc58dac",
   "metadata": {},
   "outputs": [],
   "source": [
    "matriz = np.random.randint(0, 101, size = (10,10))"
   ]
  },
  {
   "cell_type": "code",
   "execution_count": 3,
   "id": "567cc48c-a722-40d5-ac91-d75fa6df38fd",
   "metadata": {},
   "outputs": [
    {
     "data": {
      "text/plain": [
       "array([[ 47, 100,  32,   8,  16,  20,  98,  57,  14,  61],\n",
       "       [ 35,  67,  97,  60,  37,  15,  36,  80,   5,  69],\n",
       "       [  5,  10,  82,  67,  97,  68,  48,  90,  97,  59],\n",
       "       [ 49,   6,  23,  91,  56,  62,  90,  92,  26,  89],\n",
       "       [ 97,  47,  66,   3,  88,  66, 100,  59,  57,   2],\n",
       "       [ 23,  77,  66,  87,  51,  57,  15,  28,  60,  74],\n",
       "       [ 63,  96,  64,  92,   4,  20,   4,  62,  32,  64],\n",
       "       [ 52,   8,  98,  85,  76,  88,  45,  31,  19,  48],\n",
       "       [ 10,  28,  72,  24,  17,  14, 100,  60,  84,  33],\n",
       "       [  8,  68,  63,  61,  52,   8,  81,  56,  51,   8]], dtype=int32)"
      ]
     },
     "execution_count": 3,
     "metadata": {},
     "output_type": "execute_result"
    }
   ],
   "source": [
    "matriz"
   ]
  },
  {
   "cell_type": "code",
   "execution_count": 14,
   "id": "8562af52-0dbb-4901-b738-b024fee8aa75",
   "metadata": {},
   "outputs": [
    {
     "data": {
      "text/plain": [
       "array([[ 47, 100,  32,   8,  16,  20,  98,  57,  14,  61],\n",
       "       [ 35,  67,  97,  60,  37,  15,  36,  80,   5,  69],\n",
       "       [  5,  10,  82,  67,  97,  68,  48,  90,  97,  59]], dtype=int32)"
      ]
     },
     "execution_count": 14,
     "metadata": {},
     "output_type": "execute_result"
    }
   ],
   "source": [
    "# Ultimas cuatro filas\n",
    "matriz[0:3, :]"
   ]
  },
  {
   "cell_type": "code",
   "execution_count": 6,
   "id": "1c5a11aa-3af8-4f74-b69d-c6c03cdc4a3b",
   "metadata": {},
   "outputs": [
    {
     "data": {
      "text/plain": [
       "array([[ 63,  96,  64,  92,   4,  20,   4,  62,  32,  64],\n",
       "       [ 52,   8,  98,  85,  76,  88,  45,  31,  19,  48],\n",
       "       [ 10,  28,  72,  24,  17,  14, 100,  60,  84,  33],\n",
       "       [  8,  68,  63,  61,  52,   8,  81,  56,  51,   8]], dtype=int32)"
      ]
     },
     "execution_count": 6,
     "metadata": {},
     "output_type": "execute_result"
    }
   ],
   "source": [
    "matriz[6: , :]"
   ]
  },
  {
   "cell_type": "code",
   "execution_count": 13,
   "id": "b1a1930c-20cb-4efd-8071-dad1023b2ec8",
   "metadata": {},
   "outputs": [
    {
     "data": {
      "text/plain": [
       "array([[ 63,  96,  64,  92,   4,  20,   4,  62,  32,  64],\n",
       "       [ 52,   8,  98,  85,  76,  88,  45,  31,  19,  48],\n",
       "       [ 10,  28,  72,  24,  17,  14, 100,  60,  84,  33],\n",
       "       [  8,  68,  63,  61,  52,   8,  81,  56,  51,   8]], dtype=int32)"
      ]
     },
     "execution_count": 13,
     "metadata": {},
     "output_type": "execute_result"
    }
   ],
   "source": [
    "# Ultimas cuatro filas PRO\n",
    "matriz[-4: , :]"
   ]
  },
  {
   "cell_type": "code",
   "execution_count": 16,
   "id": "1d343bb8-ecb4-4a6b-9f9c-601a60c6a6e2",
   "metadata": {},
   "outputs": [
    {
     "data": {
      "text/plain": [
       "array([[35, 67, 97, 60, 37, 15, 36, 80,  5, 69],\n",
       "       [49,  6, 23, 91, 56, 62, 90, 92, 26, 89],\n",
       "       [23, 77, 66, 87, 51, 57, 15, 28, 60, 74],\n",
       "       [52,  8, 98, 85, 76, 88, 45, 31, 19, 48],\n",
       "       [ 8, 68, 63, 61, 52,  8, 81, 56, 51,  8]], dtype=int32)"
      ]
     },
     "execution_count": 16,
     "metadata": {},
     "output_type": "execute_result"
    }
   ],
   "source": [
    "# Filas impares\n",
    "matriz[1::2, :]"
   ]
  },
  {
   "cell_type": "code",
   "execution_count": 15,
   "id": "38a84677-46d2-42d0-bd39-eee42112779f",
   "metadata": {},
   "outputs": [
    {
     "data": {
      "text/plain": [
       "array([[ 47, 100,  32,   8,  16,  20,  98,  57,  14,  61],\n",
       "       [  5,  10,  82,  67,  97,  68,  48,  90,  97,  59],\n",
       "       [ 97,  47,  66,   3,  88,  66, 100,  59,  57,   2],\n",
       "       [ 63,  96,  64,  92,   4,  20,   4,  62,  32,  64],\n",
       "       [ 10,  28,  72,  24,  17,  14, 100,  60,  84,  33]], dtype=int32)"
      ]
     },
     "execution_count": 15,
     "metadata": {},
     "output_type": "execute_result"
    }
   ],
   "source": [
    "# Filas pares\n",
    "matriz[::2, :]"
   ]
  },
  {
   "cell_type": "code",
   "execution_count": 18,
   "id": "58d73e3b-eeeb-43e4-97b6-369619bc9c31",
   "metadata": {},
   "outputs": [
    {
     "data": {
      "text/plain": [
       "array([[61],\n",
       "       [69],\n",
       "       [59],\n",
       "       [89],\n",
       "       [ 2],\n",
       "       [74],\n",
       "       [64],\n",
       "       [48],\n",
       "       [33],\n",
       "       [ 8]], dtype=int32)"
      ]
     },
     "execution_count": 18,
     "metadata": {},
     "output_type": "execute_result"
    }
   ],
   "source": [
    "# Ultima columna\n",
    "matriz[:, -1:]"
   ]
  },
  {
   "cell_type": "code",
   "execution_count": 20,
   "id": "6f82371c-99f1-4127-b004-d512b3cfe55b",
   "metadata": {},
   "outputs": [
    {
     "data": {
      "text/plain": [
       "array([[ 20,  98],\n",
       "       [ 15,  36],\n",
       "       [ 68,  48],\n",
       "       [ 62,  90],\n",
       "       [ 66, 100],\n",
       "       [ 57,  15],\n",
       "       [ 20,   4],\n",
       "       [ 88,  45],\n",
       "       [ 14, 100],\n",
       "       [  8,  81]], dtype=int32)"
      ]
     },
     "execution_count": 20,
     "metadata": {},
     "output_type": "execute_result"
    }
   ],
   "source": [
    "# Columnas 5 y 6\n",
    "matriz[:, 5:7]"
   ]
  },
  {
   "cell_type": "code",
   "execution_count": 21,
   "id": "6eb55c3e-7405-4805-bad4-95a5cfaf2b3a",
   "metadata": {},
   "outputs": [
    {
     "data": {
      "text/plain": [
       "array([[35, 97, 37, 36,  5],\n",
       "       [49, 23, 56, 90, 26],\n",
       "       [23, 66, 51, 15, 60],\n",
       "       [52, 98, 76, 45, 19],\n",
       "       [ 8, 63, 52, 81, 51]], dtype=int32)"
      ]
     },
     "execution_count": 21,
     "metadata": {},
     "output_type": "execute_result"
    }
   ],
   "source": [
    "# Columnas pares, filas impares\n",
    "matriz[1::2, ::2]"
   ]
  },
  {
   "cell_type": "code",
   "execution_count": 19,
   "id": "d14cc78c-49a4-4808-a4f6-1bd5e914598e",
   "metadata": {},
   "outputs": [
    {
     "data": {
      "text/plain": [
       "array([[ 47, 100,  32,   8,  16,  20,  98,  57,  14,  61],\n",
       "       [ 35,  67,  97,  60,  37,  15,  36,  80,   5,  69],\n",
       "       [  5,  10,  82,  67,  97,  68,  48,  90,  97,  59],\n",
       "       [ 49,   6,  23,  91,  56,  62,  90,  92,  26,  89],\n",
       "       [ 97,  47,  66,   3,  88,  66, 100,  59,  57,   2],\n",
       "       [ 23,  77,  66,  87,  51,  57,  15,  28,  60,  74],\n",
       "       [ 63,  96,  64,  92,   4,  20,   4,  62,  32,  64],\n",
       "       [ 52,   8,  98,  85,  76,  88,  45,  31,  19,  48],\n",
       "       [ 10,  28,  72,  24,  17,  14, 100,  60,  84,  33],\n",
       "       [  8,  68,  63,  61,  52,   8,  81,  56,  51,   8]], dtype=int32)"
      ]
     },
     "execution_count": 19,
     "metadata": {},
     "output_type": "execute_result"
    }
   ],
   "source": [
    "matriz"
   ]
  },
  {
   "cell_type": "code",
   "execution_count": 23,
   "id": "1e49fd6c-a698-498c-9893-f07c38b61dd5",
   "metadata": {},
   "outputs": [
    {
     "data": {
      "text/plain": [
       "array([[35, 97, 37, 36,  5],\n",
       "       [49, 23, 56, 90, 26],\n",
       "       [23, 66, 51, 15, 60],\n",
       "       [52, 98, 76, 45, 19],\n",
       "       [ 8, 63, 52, 81, 51]], dtype=int32)"
      ]
     },
     "execution_count": 23,
     "metadata": {},
     "output_type": "execute_result"
    }
   ],
   "source": [
    "subMatriz = matriz[1::2, ::2]\n",
    "subMatriz"
   ]
  },
  {
   "cell_type": "code",
   "execution_count": 27,
   "id": "6b07f499-5429-430f-8dd8-d89fd673243e",
   "metadata": {},
   "outputs": [],
   "source": [
    "subMatriz[0,0] = -111"
   ]
  },
  {
   "cell_type": "code",
   "execution_count": 28,
   "id": "131a4e1c-f71b-49c4-adb4-4f78a2c0b5cc",
   "metadata": {},
   "outputs": [
    {
     "data": {
      "text/plain": [
       "array([[  47,  100,   32,    8,   16,   20,   98,   57,   14,   61],\n",
       "       [-111,   67,   97,   60,   37,   15,   36,   80,    5,   69],\n",
       "       [   5,   10,   82,   67,   97,   68,   48,   90,   97,   59],\n",
       "       [  49,    6,   23,   91,   56,   62,   90,   92,   26,   89],\n",
       "       [  97,   47,   66,    3,   88,   66,  100,   59,   57,    2],\n",
       "       [  23,   77,   66,   87,   51,   57,   15,   28,   60,   74],\n",
       "       [  63,   96,   64,   92,    4,   20,    4,   62,   32,   64],\n",
       "       [  52,    8,   98,   85,   76,   88,   45,   31,   19,   48],\n",
       "       [  10,   28,   72,   24,   17,   14,  100,   60,   84,   33],\n",
       "       [   8,   68,   63,   61,   52,    8,   81,   56,   51,    8]],\n",
       "      dtype=int32)"
      ]
     },
     "execution_count": 28,
     "metadata": {},
     "output_type": "execute_result"
    }
   ],
   "source": [
    "matriz"
   ]
  },
  {
   "cell_type": "code",
   "execution_count": 29,
   "id": "4f0f971a-19ed-4fbb-9595-7e56b4eadd45",
   "metadata": {},
   "outputs": [
    {
     "data": {
      "text/plain": [
       "array([[47, 16, 14],\n",
       "       [49, 56, 26],\n",
       "       [63,  4, 32],\n",
       "       [ 8, 52, 51]], dtype=int32)"
      ]
     },
     "execution_count": 29,
     "metadata": {},
     "output_type": "execute_result"
    }
   ],
   "source": [
    "# \n",
    "matriz[::3, ::4]"
   ]
  },
  {
   "cell_type": "code",
   "execution_count": 35,
   "id": "ac66c846-24e7-4c37-a336-c4158703656f",
   "metadata": {},
   "outputs": [
    {
     "data": {
      "text/plain": [
       "array([[ 31,  45,  88,  76],\n",
       "       [ 62,   4,  20,   4],\n",
       "       [ 28,  15,  57,  51],\n",
       "       [ 59, 100,  66,  88]], dtype=int32)"
      ]
     },
     "execution_count": 35,
     "metadata": {},
     "output_type": "execute_result"
    }
   ],
   "source": [
    "# matriz invertida de las filas 3 al 6 al \n",
    "matriz[7:3:-1, 7:3:-1]"
   ]
  },
  {
   "cell_type": "code",
   "execution_count": 36,
   "id": "47c40d4a-f028-4242-aa70-d8e54fb3439a",
   "metadata": {},
   "outputs": [],
   "source": [
    "arreglo = [1,2,3,4,5,6,7,8,9]"
   ]
  },
  {
   "cell_type": "code",
   "execution_count": 37,
   "id": "c0ff3d10-6f56-4e6e-be55-bfa1364f2d00",
   "metadata": {},
   "outputs": [
    {
     "data": {
      "text/plain": [
       "[9, 8, 7, 6, 5, 4, 3, 2, 1]"
      ]
     },
     "execution_count": 37,
     "metadata": {},
     "output_type": "execute_result"
    }
   ],
   "source": [
    "arreglo[::-1]"
   ]
  },
  {
   "cell_type": "code",
   "execution_count": 41,
   "id": "f051aa3b-ed6e-4e88-8643-984438270a64",
   "metadata": {},
   "outputs": [
    {
     "data": {
      "text/plain": [
       "[9, 8, 7, 6, 5]"
      ]
     },
     "execution_count": 41,
     "metadata": {},
     "output_type": "execute_result"
    }
   ],
   "source": [
    "arreglo[3:8]\n",
    "arreglo[3:8:-1]\n",
    "arreglo[8:3:-1]"
   ]
  },
  {
   "cell_type": "code",
   "execution_count": null,
   "id": "19009e83-2174-4bf8-b9a3-d4b6ba4b07b0",
   "metadata": {},
   "outputs": [],
   "source": []
  }
 ],
 "metadata": {
  "kernelspec": {
   "display_name": "Python 3 (ipykernel)",
   "language": "python",
   "name": "python3"
  },
  "language_info": {
   "codemirror_mode": {
    "name": "ipython",
    "version": 3
   },
   "file_extension": ".py",
   "mimetype": "text/x-python",
   "name": "python",
   "nbconvert_exporter": "python",
   "pygments_lexer": "ipython3",
   "version": "3.12.3"
  }
 },
 "nbformat": 4,
 "nbformat_minor": 5
}
