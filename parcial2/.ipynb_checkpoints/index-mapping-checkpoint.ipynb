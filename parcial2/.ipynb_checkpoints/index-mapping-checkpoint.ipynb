{
 "cells": [
  {
   "cell_type": "markdown",
   "id": "e50a33d7-1117-4a24-a72c-0faca12f6315",
   "metadata": {},
   "source": [
    "# Indexado avanzado "
   ]
  },
  {
   "cell_type": "code",
   "execution_count": 1,
   "id": "f283aa74-3c0a-4829-a23e-21f604724663",
   "metadata": {},
   "outputs": [],
   "source": [
    "import numpy as np"
   ]
  },
  {
   "cell_type": "code",
   "execution_count": 3,
   "id": "0339f997-9b52-48e4-a3d3-57948dda5d1a",
   "metadata": {},
   "outputs": [
    {
     "data": {
      "text/plain": [
       "array([[30, 22, 75, 84,  1],\n",
       "       [72, 35, 80, 93, 10],\n",
       "       [44, 68, 58, 64, 26],\n",
       "       [86, 10, 47, 34, 53],\n",
       "       [71, 18,  4, 88, 68]], dtype=int32)"
      ]
     },
     "execution_count": 3,
     "metadata": {},
     "output_type": "execute_result"
    }
   ],
   "source": [
    "aleatorios = np.random.randint(0,101, (5,5))\n",
    "aleatorios"
   ]
  },
  {
   "cell_type": "code",
   "execution_count": 4,
   "id": "84eb5471-8146-46a7-9df2-3afe5554188f",
   "metadata": {},
   "outputs": [
    {
     "data": {
      "text/plain": [
       "array([86, 10, 47, 34, 53], dtype=int32)"
      ]
     },
     "execution_count": 4,
     "metadata": {},
     "output_type": "execute_result"
    }
   ],
   "source": [
    "aleatorios[3]"
   ]
  },
  {
   "cell_type": "code",
   "execution_count": 5,
   "id": "7ff75c5e-46b0-42fa-a3c6-afd4b1dda9f5",
   "metadata": {},
   "outputs": [
    {
     "data": {
      "text/plain": [
       "array([75, 80, 58, 47,  4], dtype=int32)"
      ]
     },
     "execution_count": 5,
     "metadata": {},
     "output_type": "execute_result"
    }
   ],
   "source": [
    "aleatorios[:, 2]"
   ]
  },
  {
   "cell_type": "code",
   "execution_count": 6,
   "id": "3f804c34-70c0-4375-b25b-593b987f8c42",
   "metadata": {},
   "outputs": [
    {
     "data": {
      "text/plain": [
       "array([[30, 75,  1],\n",
       "       [44, 58, 26],\n",
       "       [71,  4, 68]], dtype=int32)"
      ]
     },
     "execution_count": 6,
     "metadata": {},
     "output_type": "execute_result"
    }
   ],
   "source": [
    "aleatorios[::2, ::2]"
   ]
  },
  {
   "cell_type": "code",
   "execution_count": null,
   "id": "1c9b40ad-bc9f-4f14-8ab4-dfae4bb1e7f1",
   "metadata": {},
   "outputs": [],
   "source": []
  }
 ],
 "metadata": {
  "kernelspec": {
   "display_name": "Python 3 (ipykernel)",
   "language": "python",
   "name": "python3"
  },
  "language_info": {
   "codemirror_mode": {
    "name": "ipython",
    "version": 3
   },
   "file_extension": ".py",
   "mimetype": "text/x-python",
   "name": "python",
   "nbconvert_exporter": "python",
   "pygments_lexer": "ipython3",
   "version": "3.12.3"
  }
 },
 "nbformat": 4,
 "nbformat_minor": 5
}
