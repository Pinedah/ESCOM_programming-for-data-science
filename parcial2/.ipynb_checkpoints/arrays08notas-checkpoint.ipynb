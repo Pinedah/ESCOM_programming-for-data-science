{
 "cells": [
  {
   "cell_type": "markdown",
   "id": "e5130ec7-5660-45c1-8130-079debd716a2",
   "metadata": {},
   "source": [
    "# Operaciones con arreglos en Numpy"
   ]
  },
  {
   "cell_type": "code",
   "execution_count": 4,
   "id": "e31ecdd2-a60b-4e7a-ab13-a198026e7d97",
   "metadata": {},
   "outputs": [],
   "source": [
    "import numpy as np\n",
    "import math"
   ]
  },
  {
   "cell_type": "code",
   "execution_count": 8,
   "id": "4cc0fed7-29f7-4ead-9a8a-c884a41add5b",
   "metadata": {},
   "outputs": [
    {
     "data": {
      "text/plain": [
       "array([  0.,  10.,  20.,  30.,  40.,  50.,  60.,  70.,  80.,  90., 100.,\n",
       "       110., 120., 130., 140., 150., 160., 170., 180.])"
      ]
     },
     "execution_count": 8,
     "metadata": {},
     "output_type": "execute_result"
    }
   ],
   "source": [
    "grados = np.array([i for i in range(0, 190, 10)], dtype='float') \n",
    "grados"
   ]
  },
  {
   "cell_type": "code",
   "execution_count": 15,
   "id": "86d430cf-14c7-4f4c-93e3-7afe15fc94a6",
   "metadata": {},
   "outputs": [
    {
     "data": {
      "text/plain": [
       "array([0.        , 0.17453293, 0.34906585, 0.52359878, 0.6981317 ,\n",
       "       0.87266463, 1.04719755, 1.22173048, 1.3962634 , 1.57079633,\n",
       "       1.74532925, 1.91986218, 2.0943951 , 2.26892803, 2.44346095,\n",
       "       2.61799388, 2.7925268 , 2.96705973, 3.14159265])"
      ]
     },
     "execution_count": 15,
     "metadata": {},
     "output_type": "execute_result"
    }
   ],
   "source": [
    "# Multiplicar un arreglo completo de flotantes, por una constante\n",
    "# (Como multiplicar un escalar por un vector)\n",
    "# Operacion bitwise (Elemento por elemento)\n",
    "np_radianes = np.array(grados * (math.pi / 180), dtype='float')\n",
    "np_radianes"
   ]
  },
  {
   "cell_type": "code",
   "execution_count": null,
   "id": "461ff476-839e-409f-91c4-f6e31e09c738",
   "metadata": {},
   "outputs": [],
   "source": []
  }
 ],
 "metadata": {
  "kernelspec": {
   "display_name": "Python 3 (ipykernel)",
   "language": "python",
   "name": "python3"
  },
  "language_info": {
   "codemirror_mode": {
    "name": "ipython",
    "version": 3
   },
   "file_extension": ".py",
   "mimetype": "text/x-python",
   "name": "python",
   "nbconvert_exporter": "python",
   "pygments_lexer": "ipython3",
   "version": "3.12.3"
  }
 },
 "nbformat": 4,
 "nbformat_minor": 5
}
