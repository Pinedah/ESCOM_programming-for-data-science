{
 "cells": [
  {
   "cell_type": "markdown",
   "id": "08e5e13a-3687-4405-88fe-2454d8caaaab",
   "metadata": {},
   "source": [
    "# Como unir arreglos "
   ]
  },
  {
   "cell_type": "code",
   "execution_count": null,
   "id": "c76ae762-4acd-49d6-8ad3-75e5588243aa",
   "metadata": {},
   "outputs": [],
   "source": []
  }
 ],
 "metadata": {
  "kernelspec": {
   "display_name": "Python 3 (ipykernel)",
   "language": "python",
   "name": "python3"
  },
  "language_info": {
   "codemirror_mode": {
    "name": "ipython",
    "version": 3
   },
   "file_extension": ".py",
   "mimetype": "text/x-python",
   "name": "python",
   "nbconvert_exporter": "python",
   "pygments_lexer": "ipython3",
   "version": "3.12.3"
  }
 },
 "nbformat": 4,
 "nbformat_minor": 5
}
