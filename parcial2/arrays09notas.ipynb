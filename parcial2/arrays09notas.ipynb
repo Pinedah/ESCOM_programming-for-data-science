{
 "cells": [
  {
   "cell_type": "markdown",
   "id": "a1f8c67f-7a2a-4b9c-b87a-5dada93689ec",
   "metadata": {},
   "source": [
    "# Operaciones logicas con arreglos"
   ]
  },
  {
   "cell_type": "code",
   "execution_count": 1,
   "id": "20fdd44f-6bdc-4c5f-9da6-1a8bb6a2a603",
   "metadata": {},
   "outputs": [],
   "source": [
    "import numpy as np"
   ]
  },
  {
   "cell_type": "code",
   "execution_count": 7,
   "id": "6e7ffdca-bbbb-4f10-9c16-76dc3f1bfe3e",
   "metadata": {},
   "outputs": [
    {
     "data": {
      "text/plain": [
       "array([ 3, 12, 15, 16,  3])"
      ]
     },
     "execution_count": 7,
     "metadata": {},
     "output_type": "execute_result"
    }
   ],
   "source": [
    "arreglo1 = np.array([3, 12, 15, 16, 3])\n",
    "arreglo1"
   ]
  },
  {
   "cell_type": "code",
   "execution_count": 8,
   "id": "6282579d-53bf-4ed7-860e-835f52f534d7",
   "metadata": {},
   "outputs": [
    {
     "data": {
      "text/plain": [
       "array([12,  3,  8,  7,  2])"
      ]
     },
     "execution_count": 8,
     "metadata": {},
     "output_type": "execute_result"
    }
   ],
   "source": [
    "arreglo2 = np.array([12, 3, 8, 7, 2])\n",
    "arreglo2"
   ]
  },
  {
   "cell_type": "code",
   "execution_count": 9,
   "id": "4fee82b2-d014-4ccf-9a09-1d4486c81ef3",
   "metadata": {},
   "outputs": [
    {
     "data": {
      "text/plain": [
       "array([0, 0, 8, 0, 2])"
      ]
     },
     "execution_count": 9,
     "metadata": {},
     "output_type": "execute_result"
    }
   ],
   "source": [
    "arreglo_and = np.bitwise_and(arreglo1, arreglo2)\n",
    "arreglo_and"
   ]
  },
  {
   "cell_type": "code",
   "execution_count": 10,
   "id": "ec9a869e-ed63-4203-8d6e-4fcde9f48a1f",
   "metadata": {},
   "outputs": [
    {
     "data": {
      "text/plain": [
       "array([15, 15, 15, 23,  3])"
      ]
     },
     "execution_count": 10,
     "metadata": {},
     "output_type": "execute_result"
    }
   ],
   "source": [
    "arreglo_or = np.bitwise_or(arreglo1, arreglo2)\n",
    "arreglo_or"
   ]
  },
  {
   "cell_type": "code",
   "execution_count": 12,
   "id": "65f2746a-233c-409d-a827-f7cbebf024a8",
   "metadata": {},
   "outputs": [
    {
     "data": {
      "text/plain": [
       "array([15, 15,  7, 23,  1])"
      ]
     },
     "execution_count": 12,
     "metadata": {},
     "output_type": "execute_result"
    }
   ],
   "source": [
    "arreglo_xor = np.bitwise_xor(arreglo1, arreglo2)\n",
    "arreglo_xor"
   ]
  },
  {
   "cell_type": "code",
   "execution_count": 14,
   "id": "7affb5d1-e832-45d9-8c31-1da0715ccc0d",
   "metadata": {},
   "outputs": [
    {
     "data": {
      "text/plain": [
       "array([ -4, -13, -16, -17,  -4])"
      ]
     },
     "execution_count": 14,
     "metadata": {},
     "output_type": "execute_result"
    }
   ],
   "source": [
    "# tener cuidado pq se muere xd\n",
    "arreglo_not = np.bitwise_not(arreglo1)\n",
    "arreglo_not"
   ]
  },
  {
   "cell_type": "code",
   "execution_count": null,
   "id": "972f8697-f5e6-48c9-be10-51d9b1b51ea5",
   "metadata": {},
   "outputs": [],
   "source": []
  }
 ],
 "metadata": {
  "kernelspec": {
   "display_name": "Python 3 (ipykernel)",
   "language": "python",
   "name": "python3"
  },
  "language_info": {
   "codemirror_mode": {
    "name": "ipython",
    "version": 3
   },
   "file_extension": ".py",
   "mimetype": "text/x-python",
   "name": "python",
   "nbconvert_exporter": "python",
   "pygments_lexer": "ipython3",
   "version": "3.12.3"
  }
 },
 "nbformat": 4,
 "nbformat_minor": 5
}
