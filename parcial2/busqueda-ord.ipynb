{
 "cells": [
  {
   "cell_type": "markdown",
   "id": "4049f063-6a76-4986-8cdb-d27372fb3d3b",
   "metadata": {},
   "source": [
    "# Busqueda y ordenamiento"
   ]
  },
  {
   "cell_type": "code",
   "execution_count": 1,
   "id": "278ae87d-6b5c-42dc-9284-43c627a2d8be",
   "metadata": {},
   "outputs": [],
   "source": [
    "import numpy as np"
   ]
  },
  {
   "cell_type": "code",
   "execution_count": 7,
   "id": "401b6a0f-973b-4b65-97c9-9385cff481b5",
   "metadata": {},
   "outputs": [
    {
     "data": {
      "text/plain": [
       "array([7, 6, 6, 6, 4, 7, 7, 7, 1, 2, 1, 4, 2, 1, 8, 5, 1, 7, 6, 2],\n",
       "      dtype=int32)"
      ]
     },
     "execution_count": 7,
     "metadata": {},
     "output_type": "execute_result"
    }
   ],
   "source": [
    "aleatorios = np.random.randint(1, 10, 20)\n",
    "aleatorios"
   ]
  },
  {
   "cell_type": "code",
   "execution_count": 9,
   "id": "55a6ccd5-a119-4e36-bd8d-ce381a7b9a07",
   "metadata": {},
   "outputs": [
    {
     "data": {
      "text/plain": [
       "(array([7, 6, 6, 6, 4, 7, 7, 7, 1, 2, 1, 4, 2, 1, 8, 5, 1, 7, 6, 2],\n",
       "       dtype=int32),\n",
       " (array([ 9, 12, 19]),))"
      ]
     },
     "execution_count": 9,
     "metadata": {},
     "output_type": "execute_result"
    }
   ],
   "source": [
    "aleatorios, np.where(aleatorios == 2)"
   ]
  },
  {
   "cell_type": "code",
   "execution_count": 10,
   "id": "2eaa8706-905e-4a82-b57b-ea094dfb6b89",
   "metadata": {},
   "outputs": [
    {
     "data": {
      "text/plain": [
       "(array([ 1,  2,  3,  4,  9, 11, 12, 14, 18, 19]),)"
      ]
     },
     "execution_count": 10,
     "metadata": {},
     "output_type": "execute_result"
    }
   ],
   "source": [
    "np.where(aleatorios % 2 == 0)"
   ]
  },
  {
   "cell_type": "markdown",
   "id": "a9e836fb-5408-4c72-90d5-a98d0ad97654",
   "metadata": {},
   "source": [
    "## ordenar con sort"
   ]
  },
  {
   "cell_type": "code",
   "execution_count": 11,
   "id": "6739d74e-1376-4ca6-9783-bfcdc53ea990",
   "metadata": {},
   "outputs": [
    {
     "data": {
      "text/plain": [
       "array([1, 1, 1, 1, 2, 2, 2, 4, 4, 5, 6, 6, 6, 6, 7, 7, 7, 7, 7, 8],\n",
       "      dtype=int32)"
      ]
     },
     "execution_count": 11,
     "metadata": {},
     "output_type": "execute_result"
    }
   ],
   "source": [
    "np.sort(aleatorios)"
   ]
  },
  {
   "cell_type": "code",
   "execution_count": 13,
   "id": "ff905d28-1798-42ff-8dad-a8ceb5ec4513",
   "metadata": {},
   "outputs": [
    {
     "data": {
      "text/plain": [
       "array([[8, 1, 4, 2, 7],\n",
       "       [8, 3, 7, 1, 6],\n",
       "       [1, 4, 1, 7, 1],\n",
       "       [6, 1, 9, 2, 7]], dtype=int32)"
      ]
     },
     "execution_count": 13,
     "metadata": {},
     "output_type": "execute_result"
    }
   ],
   "source": [
    "matriz = np.random.randint(1, 10, (4,5))\n",
    "matriz"
   ]
  },
  {
   "cell_type": "code",
   "execution_count": 14,
   "id": "65a5659a-63cb-4c2a-b6e7-0006c7714474",
   "metadata": {},
   "outputs": [
    {
     "data": {
      "text/plain": [
       "array([[1, 2, 4, 7, 8],\n",
       "       [1, 3, 6, 7, 8],\n",
       "       [1, 1, 1, 4, 7],\n",
       "       [1, 2, 6, 7, 9]], dtype=int32)"
      ]
     },
     "execution_count": 14,
     "metadata": {},
     "output_type": "execute_result"
    }
   ],
   "source": [
    "np.sort(matriz)"
   ]
  },
  {
   "cell_type": "code",
   "execution_count": 15,
   "id": "d0df1d11-5b2e-452a-b940-6fd341a63874",
   "metadata": {},
   "outputs": [
    {
     "data": {
      "text/plain": [
       "array([[1, 1, 1, 1, 1],\n",
       "       [6, 1, 4, 2, 6],\n",
       "       [8, 3, 7, 2, 7],\n",
       "       [8, 4, 9, 7, 7]], dtype=int32)"
      ]
     },
     "execution_count": 15,
     "metadata": {},
     "output_type": "execute_result"
    }
   ],
   "source": [
    "np.sort(matriz, axis=0)"
   ]
  },
  {
   "cell_type": "code",
   "execution_count": null,
   "id": "a12841f2-eda5-492b-95b2-f1dea05ca90f",
   "metadata": {},
   "outputs": [],
   "source": []
  }
 ],
 "metadata": {
  "kernelspec": {
   "display_name": "Python 3 (ipykernel)",
   "language": "python",
   "name": "python3"
  },
  "language_info": {
   "codemirror_mode": {
    "name": "ipython",
    "version": 3
   },
   "file_extension": ".py",
   "mimetype": "text/x-python",
   "name": "python",
   "nbconvert_exporter": "python",
   "pygments_lexer": "ipython3",
   "version": "3.12.3"
  }
 },
 "nbformat": 4,
 "nbformat_minor": 5
}
