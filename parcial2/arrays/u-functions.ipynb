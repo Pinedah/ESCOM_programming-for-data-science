{
 "cells": [
  {
   "cell_type": "markdown",
   "id": "a923a98f-14c4-4038-9ab3-77827d953b50",
   "metadata": {},
   "source": [
    "# U Functions"
   ]
  },
  {
   "cell_type": "code",
   "execution_count": 1,
   "id": "49ff516b-7817-4b75-b137-c91d4aaa1d45",
   "metadata": {},
   "outputs": [],
   "source": [
    "import numpy as np"
   ]
  },
  {
   "cell_type": "code",
   "execution_count": 3,
   "id": "5ec83a17-60de-4861-9022-6fc9cdbc6823",
   "metadata": {},
   "outputs": [
    {
     "data": {
      "text/plain": [
       "array([ 1,  2,  3,  4,  5,  6,  7,  8,  9, 10])"
      ]
     },
     "execution_count": 3,
     "metadata": {},
     "output_type": "execute_result"
    }
   ],
   "source": [
    "a1 = np.arange(1, 11)\n",
    "a1"
   ]
  },
  {
   "cell_type": "code",
   "execution_count": 5,
   "id": "edd464f7-519e-4084-bb2b-fc88309c9bc3",
   "metadata": {},
   "outputs": [
    {
     "data": {
      "text/plain": [
       "array([5, 5, 9, 2, 5, 8, 9, 7, 9, 2], dtype=int32)"
      ]
     },
     "execution_count": 5,
     "metadata": {},
     "output_type": "execute_result"
    }
   ],
   "source": [
    "a2 = np.random.randint(1, 10, 10)\n",
    "a2"
   ]
  },
  {
   "cell_type": "code",
   "execution_count": 6,
   "id": "18ab9f1c-1840-4336-ae52-2d12ff3231c6",
   "metadata": {},
   "outputs": [
    {
     "data": {
      "text/plain": [
       "array([ 6,  7, 12,  6, 10, 14, 16, 15, 18, 12])"
      ]
     },
     "execution_count": 6,
     "metadata": {},
     "output_type": "execute_result"
    }
   ],
   "source": [
    "np.add(a1, a2)"
   ]
  },
  {
   "cell_type": "code",
   "execution_count": 9,
   "id": "3791b65c-a457-4762-9af1-83181cb7d866",
   "metadata": {},
   "outputs": [
    {
     "data": {
      "text/plain": [
       "(array([ 1,  2,  3,  4,  5,  6,  7,  8,  9, 10]),\n",
       " array([5, 5, 9, 2, 5, 8, 9, 7, 9, 2], dtype=int32),\n",
       " np.int64(55),\n",
       " np.int64(61))"
      ]
     },
     "execution_count": 9,
     "metadata": {},
     "output_type": "execute_result"
    }
   ],
   "source": [
    "a1, a2, np.sum(a1), np.sum(a2)"
   ]
  },
  {
   "cell_type": "code",
   "execution_count": 11,
   "id": "bbfed540-bd96-4403-a95a-ebd2102488e0",
   "metadata": {},
   "outputs": [
    {
     "data": {
      "text/plain": [
       "array([[8, 4, 6, 4],\n",
       "       [2, 1, 2, 9],\n",
       "       [4, 2, 5, 1]], dtype=int32)"
      ]
     },
     "execution_count": 11,
     "metadata": {},
     "output_type": "execute_result"
    }
   ],
   "source": [
    "matriz = np.random.randint(1, 10, (3, 4))\n",
    "matriz"
   ]
  },
  {
   "cell_type": "code",
   "execution_count": 12,
   "id": "234a430d-3b7a-4687-a072-2dd024c04b02",
   "metadata": {},
   "outputs": [
    {
     "data": {
      "text/plain": [
       "np.int64(48)"
      ]
     },
     "execution_count": 12,
     "metadata": {},
     "output_type": "execute_result"
    }
   ],
   "source": [
    "np.sum(matriz)"
   ]
  },
  {
   "cell_type": "code",
   "execution_count": 15,
   "id": "19e81d37-11a2-44fe-adac-af421517ffb3",
   "metadata": {},
   "outputs": [
    {
     "data": {
      "text/plain": [
       "(array([22, 14, 12]), array([14,  7, 13, 14]))"
      ]
     },
     "execution_count": 15,
     "metadata": {},
     "output_type": "execute_result"
    }
   ],
   "source": [
    "# suma por filas          suma por columnas\n",
    "np.sum(matriz, axis=1), np.sum(matriz, axis=0)"
   ]
  },
  {
   "cell_type": "code",
   "execution_count": 30,
   "id": "a21d930c-a2c2-4ee0-83ca-3f6dff4ca04b",
   "metadata": {},
   "outputs": [
    {
     "data": {
      "text/plain": [
       "array([[[ 1,  2,  3],\n",
       "        [ 4,  5,  6],\n",
       "        [ 7,  8,  9]],\n",
       "\n",
       "       [[10, 11, 12],\n",
       "        [13, 14, 15],\n",
       "        [16, 17, 18]],\n",
       "\n",
       "       [[19, 20, 21],\n",
       "        [22, 23, 24],\n",
       "        [25, 26, 27]]])"
      ]
     },
     "execution_count": 30,
     "metadata": {},
     "output_type": "execute_result"
    }
   ],
   "source": [
    "cubo = np.arange(1, 28).reshape(3,3,3)\n",
    "cubo"
   ]
  },
  {
   "cell_type": "code",
   "execution_count": 31,
   "id": "dc0d0c1c-2d02-47c3-8cc6-3ce74532d516",
   "metadata": {},
   "outputs": [
    {
     "data": {
      "text/plain": [
       "np.int64(378)"
      ]
     },
     "execution_count": 31,
     "metadata": {},
     "output_type": "execute_result"
    }
   ],
   "source": [
    "np.sum(cubo)"
   ]
  },
  {
   "cell_type": "code",
   "execution_count": 32,
   "id": "8de922d9-a078-4820-917e-60770f3c4e6c",
   "metadata": {},
   "outputs": [
    {
     "data": {
      "text/plain": [
       "np.int64(3628800)"
      ]
     },
     "execution_count": 32,
     "metadata": {},
     "output_type": "execute_result"
    }
   ],
   "source": [
    "np.prod(a1)"
   ]
  },
  {
   "cell_type": "code",
   "execution_count": 34,
   "id": "078a84d9-09d0-43a2-9e06-28943e832823",
   "metadata": {},
   "outputs": [
    {
     "data": {
      "text/plain": [
       "array([ 5, 10, 27,  8, 25, 48, 63, 56, 81, 20])"
      ]
     },
     "execution_count": 34,
     "metadata": {},
     "output_type": "execute_result"
    }
   ],
   "source": [
    "np.multiply(a1, a2)"
   ]
  },
  {
   "cell_type": "code",
   "execution_count": 35,
   "id": "a7897fde-7107-4db2-9dca-e2eb052d4a6a",
   "metadata": {},
   "outputs": [
    {
     "data": {
      "text/plain": [
       "array([ 5, 10, 27,  8, 25, 48, 63, 56, 81, 20])"
      ]
     },
     "execution_count": 35,
     "metadata": {},
     "output_type": "execute_result"
    }
   ],
   "source": [
    "a1*a2"
   ]
  },
  {
   "cell_type": "code",
   "execution_count": 36,
   "id": "6453f0dd-cb20-4d1d-a8f3-d7f8f9316665",
   "metadata": {},
   "outputs": [
    {
     "data": {
      "text/plain": [
       "array([0.        , 1.        , 1.5849625 , 2.        , 2.32192809,\n",
       "       2.5849625 , 2.80735492, 3.        , 3.169925  , 3.32192809])"
      ]
     },
     "execution_count": 36,
     "metadata": {},
     "output_type": "execute_result"
    }
   ],
   "source": [
    "np.log2(a1)"
   ]
  },
  {
   "cell_type": "code",
   "execution_count": null,
   "id": "5a0a1599-6dce-4422-98a5-e52a81c3ffeb",
   "metadata": {},
   "outputs": [],
   "source": []
  }
 ],
 "metadata": {
  "kernelspec": {
   "display_name": "Python 3 (ipykernel)",
   "language": "python",
   "name": "python3"
  },
  "language_info": {
   "codemirror_mode": {
    "name": "ipython",
    "version": 3
   },
   "file_extension": ".py",
   "mimetype": "text/x-python",
   "name": "python",
   "nbconvert_exporter": "python",
   "pygments_lexer": "ipython3",
   "version": "3.12.3"
  }
 },
 "nbformat": 4,
 "nbformat_minor": 5
}
