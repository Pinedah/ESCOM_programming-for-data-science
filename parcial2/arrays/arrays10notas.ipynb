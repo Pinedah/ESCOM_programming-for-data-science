{
 "cells": [
  {
   "cell_type": "markdown",
   "id": "9f53b7f5-8689-49ba-8528-2e89026f6625",
   "metadata": {},
   "source": [
    "# Funciones con cadenas"
   ]
  },
  {
   "cell_type": "code",
   "execution_count": 1,
   "id": "d9d0e2d4-b0f3-4dec-9c80-3e1a751ef390",
   "metadata": {},
   "outputs": [],
   "source": [
    "import numpy as np"
   ]
  },
  {
   "cell_type": "code",
   "execution_count": 4,
   "id": "a79f0262-d4e8-450f-a610-656e587c4aa6",
   "metadata": {},
   "outputs": [
    {
     "data": {
      "text/plain": [
       "array(['Hola', 'panké', '!\"#45F'], dtype='<U6')"
      ]
     },
     "execution_count": 4,
     "metadata": {},
     "output_type": "execute_result"
    }
   ],
   "source": [
    "cadenas = np.array(['Hola', 'panké', '!\"#45F'])\n",
    "cadenas"
   ]
  },
  {
   "cell_type": "code",
   "execution_count": 8,
   "id": "eab560f6-f7d6-43a5-b235-c41d82cd272d",
   "metadata": {},
   "outputs": [
    {
     "data": {
      "text/plain": [
       "array(['hola', 'panké', '!\"#45f'], dtype='<U6')"
      ]
     },
     "execution_count": 8,
     "metadata": {},
     "output_type": "execute_result"
    }
   ],
   "source": [
    "minusculas = np.char.lower(cadenas)\n",
    "minusculas"
   ]
  },
  {
   "cell_type": "code",
   "execution_count": 10,
   "id": "6ff0e036-df48-4d3e-af6b-a4c2ffd43c1a",
   "metadata": {},
   "outputs": [
    {
     "data": {
      "text/plain": [
       "array(['HOLA', 'PANKÉ', '!\"#45F'], dtype='<U6')"
      ]
     },
     "execution_count": 10,
     "metadata": {},
     "output_type": "execute_result"
    }
   ],
   "source": [
    "mayusculas = np.char.upper(cadenas)\n",
    "mayusculas"
   ]
  },
  {
   "cell_type": "code",
   "execution_count": 11,
   "id": "0a764078-53d0-4643-a393-64a3df0afb46",
   "metadata": {},
   "outputs": [
    {
     "data": {
      "text/plain": [
       "array(['Hola', 'Panké', '!\"#45f'], dtype='<U6')"
      ]
     },
     "execution_count": 11,
     "metadata": {},
     "output_type": "execute_result"
    }
   ],
   "source": [
    "primera_mayuscula = np.char.capitalize(minusculas)\n",
    "primera_mayuscula"
   ]
  },
  {
   "cell_type": "code",
   "execution_count": 13,
   "id": "ec59cbc9-394f-4e81-b35c-81523d0bca38",
   "metadata": {},
   "outputs": [
    {
     "data": {
      "text/plain": [
       "array([array(list(['Find', 'your', 'dreams', 'come', 'true', 'And', 'I', 'wonder', 'if', 'you', 'know', 'What', 'it', 'means,', 'what', 'it', 'means', 'What', 'it', 'means', 'to', 'find', 'your', 'dreams']),\n",
       "             dtype=object)                                                                                                                                                                                     ],\n",
       "      dtype=object)"
      ]
     },
     "execution_count": 13,
     "metadata": {},
     "output_type": "execute_result"
    }
   ],
   "source": [
    "texto = \"\"\"Find your dreams come true\n",
    "    And I wonder if you know\n",
    "    What it means, what it means\n",
    "    What it means to find your dreams\"\"\"\n",
    "cadenas2 = np.array([np.char.split(texto)])\n",
    "cadenas2"
   ]
  },
  {
   "cell_type": "code",
   "execution_count": 14,
   "id": "dfec0fa7-e49a-4fc0-ba11-950a68085288",
   "metadata": {},
   "outputs": [
    {
     "data": {
      "text/plain": [
       "array([array(list(['Find', 'your', 'dreams', 'come', 'true\\n', 'And I wonder if you', 'know\\n', 'What', 'it', 'means,', 'what', 'it means\\n', 'What', 'it', 'means', 'to find your dreams']),\n",
       "             dtype=object)                                                                                                                                                                   ],\n",
       "      dtype=object)"
      ]
     },
     "execution_count": 14,
     "metadata": {},
     "output_type": "execute_result"
    }
   ],
   "source": [
    "texto = \"\"\"Find-your-dreams-come-true\n",
    "-And I wonder if you-know\n",
    "-What-it-means,-what-it means\n",
    "-What-it-means-to find your dreams\"\"\"\n",
    "cadenas3 = np.array([np.char.split(texto, sep='-')])\n",
    "cadenas3"
   ]
  },
  {
   "cell_type": "code",
   "execution_count": 15,
   "id": "5f338582-0a7c-4c60-ac66-9b8fda3c1300",
   "metadata": {},
   "outputs": [
    {
     "data": {
      "text/plain": [
       "np.str_('HOLA PANKE')"
      ]
     },
     "execution_count": 15,
     "metadata": {},
     "output_type": "execute_result"
    }
   ],
   "source": [
    "np.char.strip('       HOLA PANKE         ')"
   ]
  },
  {
   "cell_type": "code",
   "execution_count": 16,
   "id": "32a353a5-b3ef-4be5-83bb-dc5867d38bd0",
   "metadata": {},
   "outputs": [
    {
     "data": {
      "text/plain": [
       "array(['                      Panke                       ',\n",
       "       '                    Pankesito                     ',\n",
       "       '                  Pankesito Rex                   '], dtype='<U50')"
      ]
     },
     "execution_count": 16,
     "metadata": {},
     "output_type": "execute_result"
    }
   ],
   "source": [
    "arreglo_de_pankes = np.array([\"Panke\", \"Pankesito\", \"Pankesito Rex\"])\n",
    "np.char.center(arreglo_de_pankes, 50)"
   ]
  }
 ],
 "metadata": {
  "kernelspec": {
   "display_name": "Python 3 (ipykernel)",
   "language": "python",
   "name": "python3"
  },
  "language_info": {
   "codemirror_mode": {
    "name": "ipython",
    "version": 3
   },
   "file_extension": ".py",
   "mimetype": "text/x-python",
   "name": "python",
   "nbconvert_exporter": "python",
   "pygments_lexer": "ipython3",
   "version": "3.12.3"
  }
 },
 "nbformat": 4,
 "nbformat_minor": 5
}
