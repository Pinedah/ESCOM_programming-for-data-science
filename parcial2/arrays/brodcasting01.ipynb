{
 "cells": [
  {
   "cell_type": "markdown",
   "id": "2239fbd0-7b79-498f-9ccb-252a9201ab0e",
   "metadata": {},
   "source": [
    "# Brodcasting"
   ]
  },
  {
   "cell_type": "code",
   "execution_count": 2,
   "id": "3904ad1b-0ac0-4bec-a282-76f664148137",
   "metadata": {},
   "outputs": [],
   "source": [
    "import numpy as np\n",
    "import random as sepalachingada"
   ]
  },
  {
   "cell_type": "code",
   "execution_count": 6,
   "id": "2ada3765-0095-4db0-81fe-12c53cf41202",
   "metadata": {},
   "outputs": [
    {
     "data": {
      "text/plain": [
       "[4, 4, 11, 5, 3, 2, 9, 2, 4, 8]"
      ]
     },
     "execution_count": 6,
     "metadata": {},
     "output_type": "execute_result"
    }
   ],
   "source": [
    "lista = [sepalachingada.randint(1,11) for _ in range(10)]\n",
    "lista "
   ]
  },
  {
   "cell_type": "code",
   "execution_count": 7,
   "id": "ccf35f01-bd6a-4303-9f90-f8f5523d618b",
   "metadata": {},
   "outputs": [
    {
     "ename": "TypeError",
     "evalue": "can only concatenate list (not \"int\") to list",
     "output_type": "error",
     "traceback": [
      "\u001b[1;31m---------------------------------------------------------------------------\u001b[0m",
      "\u001b[1;31mTypeError\u001b[0m                                 Traceback (most recent call last)",
      "Cell \u001b[1;32mIn[7], line 1\u001b[0m\n\u001b[1;32m----> 1\u001b[0m \u001b[43mlista\u001b[49m\u001b[43m \u001b[49m\u001b[38;5;241;43m+\u001b[39;49m\u001b[43m \u001b[49m\u001b[38;5;241;43m5\u001b[39;49m\n",
      "\u001b[1;31mTypeError\u001b[0m: can only concatenate list (not \"int\") to list"
     ]
    }
   ],
   "source": [
    "lista + 5"
   ]
  },
  {
   "cell_type": "code",
   "execution_count": 8,
   "id": "749a0aef-23d2-4ae6-999d-01aa5ee5be20",
   "metadata": {},
   "outputs": [
    {
     "data": {
      "text/plain": [
       "[9, 9, 16, 10, 8, 7, 14, 7, 9, 13]"
      ]
     },
     "execution_count": 8,
     "metadata": {},
     "output_type": "execute_result"
    }
   ],
   "source": [
    "resultado = []\n",
    "for elemento in lista:\n",
    "    resultado.append(elemento + 5)\n",
    "resultado"
   ]
  },
  {
   "cell_type": "markdown",
   "id": "f411a2dd-cc29-42d5-8d04-2fd85d1d0a8c",
   "metadata": {},
   "source": [
    "## Ejemplo 1"
   ]
  },
  {
   "cell_type": "code",
   "execution_count": 9,
   "id": "f32a974b-fc55-4539-b862-7342d894d4f8",
   "metadata": {},
   "outputs": [
    {
     "data": {
      "text/plain": [
       "array([0, 1, 2])"
      ]
     },
     "execution_count": 9,
     "metadata": {},
     "output_type": "execute_result"
    }
   ],
   "source": [
    "# Brodcasing tensor de 1 dim con escalar\n",
    "a = np.arange(3)\n",
    "a"
   ]
  },
  {
   "cell_type": "code",
   "execution_count": 11,
   "id": "25740515-30b1-467f-baba-3cd828a6ed77",
   "metadata": {},
   "outputs": [
    {
     "data": {
      "text/plain": [
       "array([5, 6, 7])"
      ]
     },
     "execution_count": 11,
     "metadata": {},
     "output_type": "execute_result"
    }
   ],
   "source": [
    "resultado = a + 5\n",
    "resultado"
   ]
  },
  {
   "cell_type": "markdown",
   "id": "64f2a2e5-cedc-4fc5-9f0d-1da3a46a3cd8",
   "metadata": {},
   "source": [
    "## Ejemplo 2"
   ]
  },
  {
   "cell_type": "code",
   "execution_count": 22,
   "id": "1b0c3ae4-9f1d-4d4f-8838-ee9457257489",
   "metadata": {},
   "outputs": [
    {
     "data": {
      "text/plain": [
       "array([[ 9,  6,  3,  6],\n",
       "       [10,  2,  4,  2],\n",
       "       [ 6, 10,  5,  4]], dtype=int32)"
      ]
     },
     "execution_count": 22,
     "metadata": {},
     "output_type": "execute_result"
    }
   ],
   "source": [
    "aleatorios = np.random.randint(1, 11, (3,4))\n",
    "aleatorios"
   ]
  },
  {
   "cell_type": "code",
   "execution_count": 23,
   "id": "9b3dfae3-5fef-4781-94bc-4f20d60b379b",
   "metadata": {},
   "outputs": [
    {
     "data": {
      "text/plain": [
       "array([[ 90,  60,  30,  60],\n",
       "       [100,  20,  40,  20],\n",
       "       [ 60, 100,  50,  40]], dtype=int32)"
      ]
     },
     "execution_count": 23,
     "metadata": {},
     "output_type": "execute_result"
    }
   ],
   "source": [
    "resultado2 = aleatorios * 10\n",
    "resultado2"
   ]
  },
  {
   "cell_type": "markdown",
   "id": "55252325-c005-4d98-aaa3-99e0bc32a370",
   "metadata": {},
   "source": [
    "## Ejemplo 3 - cubo de unos"
   ]
  },
  {
   "cell_type": "code",
   "execution_count": 26,
   "id": "b7a31d6a-a8f4-4f12-a261-b77daf1587ed",
   "metadata": {},
   "outputs": [
    {
     "data": {
      "text/plain": [
       "array([[[1, 1, 1],\n",
       "        [1, 1, 1],\n",
       "        [1, 1, 1]],\n",
       "\n",
       "       [[1, 1, 1],\n",
       "        [1, 1, 1],\n",
       "        [1, 1, 1]],\n",
       "\n",
       "       [[1, 1, 1],\n",
       "        [1, 1, 1],\n",
       "        [1, 1, 1]]], dtype=int16)"
      ]
     },
     "execution_count": 26,
     "metadata": {},
     "output_type": "execute_result"
    }
   ],
   "source": [
    "cubo_unos = np.ones((3,3,3), dtype=\"int16\")\n",
    "cubo_unos"
   ]
  },
  {
   "cell_type": "code",
   "execution_count": 27,
   "id": "def98513-99cc-4bb3-8957-6746e797fcc7",
   "metadata": {},
   "outputs": [
    {
     "data": {
      "text/plain": [
       "array([[[3, 3, 3],\n",
       "        [3, 3, 3],\n",
       "        [3, 3, 3]],\n",
       "\n",
       "       [[3, 3, 3],\n",
       "        [3, 3, 3],\n",
       "        [3, 3, 3]],\n",
       "\n",
       "       [[3, 3, 3],\n",
       "        [3, 3, 3],\n",
       "        [3, 3, 3]]], dtype=int16)"
      ]
     },
     "execution_count": 27,
     "metadata": {},
     "output_type": "execute_result"
    }
   ],
   "source": [
    "resultado3 = cubo_unos + 2\n",
    "resultado3"
   ]
  },
  {
   "cell_type": "code",
   "execution_count": 28,
   "id": "3f35bda0-8f91-4897-9753-ce05896afd2d",
   "metadata": {},
   "outputs": [
    {
     "data": {
      "text/plain": [
       "array([[[0, 3, 3],\n",
       "        [3, 3, 3],\n",
       "        [3, 3, 3]],\n",
       "\n",
       "       [[3, 3, 3],\n",
       "        [3, 3, 3],\n",
       "        [3, 3, 3]],\n",
       "\n",
       "       [[3, 3, 3],\n",
       "        [3, 3, 3],\n",
       "        [3, 3, 3]]], dtype=int16)"
      ]
     },
     "execution_count": 28,
     "metadata": {},
     "output_type": "execute_result"
    }
   ],
   "source": [
    "resultado3[0,0,0] = 0\n",
    "resultado3"
   ]
  },
  {
   "cell_type": "code",
   "execution_count": 29,
   "id": "02575371-5d24-4160-81e1-e6c03f3198d5",
   "metadata": {},
   "outputs": [
    {
     "data": {
      "text/plain": [
       "array([[[1, 1, 1],\n",
       "        [1, 1, 1],\n",
       "        [1, 1, 1]],\n",
       "\n",
       "       [[1, 1, 1],\n",
       "        [1, 1, 1],\n",
       "        [1, 1, 1]],\n",
       "\n",
       "       [[1, 1, 1],\n",
       "        [1, 1, 1],\n",
       "        [1, 1, 1]]], dtype=int16)"
      ]
     },
     "execution_count": 29,
     "metadata": {},
     "output_type": "execute_result"
    }
   ],
   "source": [
    "cubo_unos"
   ]
  },
  {
   "cell_type": "markdown",
   "id": "bf181da1-655b-4a55-9d0a-6510d48fa5ef",
   "metadata": {},
   "source": [
    "## Ejemplo 4 matriz aleatorios"
   ]
  },
  {
   "cell_type": "code",
   "execution_count": 31,
   "id": "964743f1-0e67-46c2-82e1-7c522b452485",
   "metadata": {},
   "outputs": [
    {
     "data": {
      "text/plain": [
       "(array([[ 9,  6,  3,  6],\n",
       "        [10,  2,  4,  2],\n",
       "        [ 6, 10,  5,  4]], dtype=int32),\n",
       " array([0, 1, 2]))"
      ]
     },
     "execution_count": 31,
     "metadata": {},
     "output_type": "execute_result"
    }
   ],
   "source": [
    "aleatorios, a"
   ]
  },
  {
   "cell_type": "code",
   "execution_count": 34,
   "id": "8698f97f-8661-46a2-b162-1c053be340f7",
   "metadata": {},
   "outputs": [
    {
     "ename": "ValueError",
     "evalue": "operands could not be broadcast together with shapes (3,4) (3,) ",
     "output_type": "error",
     "traceback": [
      "\u001b[1;31m---------------------------------------------------------------------------\u001b[0m",
      "\u001b[1;31mValueError\u001b[0m                                Traceback (most recent call last)",
      "Cell \u001b[1;32mIn[34], line 1\u001b[0m\n\u001b[1;32m----> 1\u001b[0m r4 \u001b[38;5;241m=\u001b[39m \u001b[43maleatorios\u001b[49m\u001b[43m \u001b[49m\u001b[38;5;241;43m+\u001b[39;49m\u001b[43m \u001b[49m\u001b[43ma\u001b[49m\n",
      "\u001b[1;31mValueError\u001b[0m: operands could not be broadcast together with shapes (3,4) (3,) "
     ]
    }
   ],
   "source": [
    "r4 = aleatorios + a"
   ]
  },
  {
   "cell_type": "code",
   "execution_count": 36,
   "id": "d2a93e73-b67e-46bf-94f4-d0bcdb286d23",
   "metadata": {},
   "outputs": [
    {
     "data": {
      "text/plain": [
       "array([0, 1, 2, 3])"
      ]
     },
     "execution_count": 36,
     "metadata": {},
     "output_type": "execute_result"
    }
   ],
   "source": [
    "c = np.arange(4)\n",
    "c"
   ]
  },
  {
   "cell_type": "code",
   "execution_count": 39,
   "id": "77acabe7-e258-4c4d-8bff-6903ca65e0e5",
   "metadata": {},
   "outputs": [
    {
     "data": {
      "text/plain": [
       "(array([[ 9,  6,  3,  6],\n",
       "        [10,  2,  4,  2],\n",
       "        [ 6, 10,  5,  4]], dtype=int32),\n",
       " array([0, 1, 2, 3]),\n",
       " array([[ 9,  7,  5,  9],\n",
       "        [10,  3,  6,  5],\n",
       "        [ 6, 11,  7,  7]]))"
      ]
     },
     "execution_count": 39,
     "metadata": {},
     "output_type": "execute_result"
    }
   ],
   "source": [
    "r5 = aleatorios + c\n",
    "aleatorios, c, r5"
   ]
  },
  {
   "cell_type": "code",
   "execution_count": 42,
   "id": "28982958-d0c3-44e8-ac06-d913ea2b4111",
   "metadata": {},
   "outputs": [
    {
     "data": {
      "text/plain": [
       "array([[0],\n",
       "       [1],\n",
       "       [2]])"
      ]
     },
     "execution_count": 42,
     "metadata": {},
     "output_type": "execute_result"
    }
   ],
   "source": [
    "a2 = a.reshape(3,1)\n",
    "a2"
   ]
  },
  {
   "cell_type": "code",
   "execution_count": 43,
   "id": "16cc2301-6e1f-45f9-a9e7-5e1f0458f3e2",
   "metadata": {},
   "outputs": [
    {
     "data": {
      "text/plain": [
       "(array([[ 9,  6,  3,  6],\n",
       "        [10,  2,  4,  2],\n",
       "        [ 6, 10,  5,  4]], dtype=int32),\n",
       " array([[0],\n",
       "        [1],\n",
       "        [2]]),\n",
       " array([[ 9,  6,  3,  6],\n",
       "        [11,  3,  5,  3],\n",
       "        [ 8, 12,  7,  6]]))"
      ]
     },
     "execution_count": 43,
     "metadata": {},
     "output_type": "execute_result"
    }
   ],
   "source": [
    "r6 = aleatorios + a2\n",
    "aleatorios, a2, r6"
   ]
  },
  {
   "cell_type": "markdown",
   "id": "2d5716f1-ddb7-4a22-942c-8b471a0a6b0d",
   "metadata": {},
   "source": [
    "## Ejemplo de brodcasting dificil jskjksa"
   ]
  },
  {
   "cell_type": "code",
   "execution_count": 45,
   "id": "fc039d49-2bef-4a4b-8d4f-12a3b5896a80",
   "metadata": {},
   "outputs": [
    {
     "data": {
      "text/plain": [
       "(array([0, 1, 2]),\n",
       " array([[0],\n",
       "        [1],\n",
       "        [2]]),\n",
       " array([[0, 1, 2],\n",
       "        [1, 2, 3],\n",
       "        [2, 3, 4]]))"
      ]
     },
     "execution_count": 45,
     "metadata": {},
     "output_type": "execute_result"
    }
   ],
   "source": [
    "k = a2 + a\n",
    "a, a2, k"
   ]
  },
  {
   "cell_type": "code",
   "execution_count": 50,
   "id": "ae98fc06-3e67-4703-b6da-da7b2728adda",
   "metadata": {},
   "outputs": [
    {
     "data": {
      "text/plain": [
       "(array([0, 1, 2]), array([0, 1, 2, 3]))"
      ]
     },
     "execution_count": 50,
     "metadata": {},
     "output_type": "execute_result"
    }
   ],
   "source": [
    "a, c"
   ]
  },
  {
   "cell_type": "code",
   "execution_count": 51,
   "id": "6087cdd9-1518-4d27-a1da-07140f201ac8",
   "metadata": {},
   "outputs": [
    {
     "ename": "ValueError",
     "evalue": "operands could not be broadcast together with shapes (3,) (4,) ",
     "output_type": "error",
     "traceback": [
      "\u001b[1;31m---------------------------------------------------------------------------\u001b[0m",
      "\u001b[1;31mValueError\u001b[0m                                Traceback (most recent call last)",
      "Cell \u001b[1;32mIn[51], line 1\u001b[0m\n\u001b[1;32m----> 1\u001b[0m \u001b[43ma\u001b[49m\u001b[43m \u001b[49m\u001b[38;5;241;43m+\u001b[39;49m\u001b[43m \u001b[49m\u001b[43mc\u001b[49m\n",
      "\u001b[1;31mValueError\u001b[0m: operands could not be broadcast together with shapes (3,) (4,) "
     ]
    }
   ],
   "source": [
    "a + c"
   ]
  },
  {
   "cell_type": "code",
   "execution_count": 52,
   "id": "3d2c8a8e-e6ad-4b25-abc9-2b41c10ec3d5",
   "metadata": {},
   "outputs": [
    {
     "data": {
      "text/plain": [
       "array([[0, 1, 2, 3],\n",
       "       [1, 2, 3, 4],\n",
       "       [2, 3, 4, 5]])"
      ]
     },
     "execution_count": 52,
     "metadata": {},
     "output_type": "execute_result"
    }
   ],
   "source": [
    "a2 + c"
   ]
  },
  {
   "cell_type": "code",
   "execution_count": 55,
   "id": "9d2bba45-3923-4eef-bf16-efcc7351cec5",
   "metadata": {},
   "outputs": [
    {
     "data": {
      "text/plain": [
       "(array([1, 2, 3]), array([10, 20, 30]))"
      ]
     },
     "execution_count": 55,
     "metadata": {},
     "output_type": "execute_result"
    }
   ],
   "source": [
    "pan = np.array([1, 2, 3])\n",
    "ke = np.array([10, 20, 30])\n",
    "pan, ke"
   ]
  },
  {
   "cell_type": "code",
   "execution_count": 56,
   "id": "667a2ded-e3af-4b42-a65e-e2563388953e",
   "metadata": {},
   "outputs": [
    {
     "data": {
      "text/plain": [
       "array([11, 22, 33])"
      ]
     },
     "execution_count": 56,
     "metadata": {},
     "output_type": "execute_result"
    }
   ],
   "source": [
    "pan + ke"
   ]
  },
  {
   "cell_type": "code",
   "execution_count": null,
   "id": "7a9bab72-ef46-449c-bd0a-3ff60d6884d7",
   "metadata": {},
   "outputs": [],
   "source": []
  }
 ],
 "metadata": {
  "kernelspec": {
   "display_name": "Python 3 (ipykernel)",
   "language": "python",
   "name": "python3"
  },
  "language_info": {
   "codemirror_mode": {
    "name": "ipython",
    "version": 3
   },
   "file_extension": ".py",
   "mimetype": "text/x-python",
   "name": "python",
   "nbconvert_exporter": "python",
   "pygments_lexer": "ipython3",
   "version": "3.12.3"
  }
 },
 "nbformat": 4,
 "nbformat_minor": 5
}
