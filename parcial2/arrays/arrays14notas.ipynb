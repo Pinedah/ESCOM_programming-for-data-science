{
 "cells": [
  {
   "cell_type": "markdown",
   "id": "08e5e13a-3687-4405-88fe-2454d8caaaab",
   "metadata": {},
   "source": [
    "# Como unir arreglos "
   ]
  },
  {
   "cell_type": "code",
   "execution_count": 1,
   "id": "c76ae762-4acd-49d6-8ad3-75e5588243aa",
   "metadata": {},
   "outputs": [],
   "source": [
    "import numpy as np"
   ]
  },
  {
   "cell_type": "code",
   "execution_count": 3,
   "id": "4b7de9b5-301c-4b68-8da8-93ab1dedb0ac",
   "metadata": {},
   "outputs": [
    {
     "data": {
      "text/plain": [
       "array([1., 1., 1., 1., 1.])"
      ]
     },
     "execution_count": 3,
     "metadata": {},
     "output_type": "execute_result"
    }
   ],
   "source": [
    "unos = np.ones(5)\n",
    "unos"
   ]
  },
  {
   "cell_type": "code",
   "execution_count": 4,
   "id": "088d2241-2737-4977-8086-38a6c754ce9f",
   "metadata": {},
   "outputs": [
    {
     "data": {
      "text/plain": [
       "array([0., 0., 0., 0., 0.])"
      ]
     },
     "execution_count": 4,
     "metadata": {},
     "output_type": "execute_result"
    }
   ],
   "source": [
    "ceros = np.zeros(5)\n",
    "ceros"
   ]
  },
  {
   "cell_type": "code",
   "execution_count": 6,
   "id": "75b819b6-50b0-417a-b6c2-c3b140da1499",
   "metadata": {},
   "outputs": [
    {
     "data": {
      "text/plain": [
       "(array([1., 1., 1., 1., 1.]),\n",
       " array([0., 0., 0., 0., 0.]),\n",
       " array([1., 1., 1., 1., 1., 0., 0., 0., 0., 0.]))"
      ]
     },
     "execution_count": 6,
     "metadata": {},
     "output_type": "execute_result"
    }
   ],
   "source": [
    "unos, ceros, np.concat((unos, ceros))"
   ]
  },
  {
   "cell_type": "code",
   "execution_count": 13,
   "id": "983970eb-1d53-438c-8ffe-887f554002da",
   "metadata": {},
   "outputs": [
    {
     "data": {
      "text/plain": [
       "array([[32,  2, 88],\n",
       "       [42,  4, 92],\n",
       "       [50, 99, 43]], dtype=int32)"
      ]
     },
     "execution_count": 13,
     "metadata": {},
     "output_type": "execute_result"
    }
   ],
   "source": [
    "matriz1 = np.random.randint(0, 100, (3,3))\n",
    "matriz1"
   ]
  },
  {
   "cell_type": "code",
   "execution_count": 12,
   "id": "12974878-c06f-42f8-9bd1-b3d70e182f75",
   "metadata": {},
   "outputs": [
    {
     "data": {
      "text/plain": [
       "array([[80, 35, 13],\n",
       "       [66, 83, 20],\n",
       "       [97, 51, 65]], dtype=int32)"
      ]
     },
     "execution_count": 12,
     "metadata": {},
     "output_type": "execute_result"
    }
   ],
   "source": [
    "matriz2 = np.random.randint(0, 100, (3,3))\n",
    "matriz2"
   ]
  },
  {
   "cell_type": "code",
   "execution_count": 17,
   "id": "5a569693-d3a7-4220-ab41-4eae18db3422",
   "metadata": {},
   "outputs": [
    {
     "data": {
      "text/plain": [
       "(array([[32,  2, 88],\n",
       "        [42,  4, 92],\n",
       "        [50, 99, 43]], dtype=int32),\n",
       " array([[80, 35, 13],\n",
       "        [66, 83, 20],\n",
       "        [97, 51, 65]], dtype=int32),\n",
       " '-',\n",
       " array([[[32,  2, 88],\n",
       "         [80, 35, 13]],\n",
       " \n",
       "        [[42,  4, 92],\n",
       "         [66, 83, 20]],\n",
       " \n",
       "        [[50, 99, 43],\n",
       "         [97, 51, 65]]], dtype=int32))"
      ]
     },
     "execution_count": 17,
     "metadata": {},
     "output_type": "execute_result"
    }
   ],
   "source": [
    "matriz1, matriz2, \"-\", np.stack((matriz1, matriz2), axis=1)"
   ]
  },
  {
   "cell_type": "code",
   "execution_count": 22,
   "id": "09293c3b-1abe-42eb-8faf-49cb1091ccc7",
   "metadata": {},
   "outputs": [
    {
     "data": {
      "text/plain": [
       "(array([[32,  2, 88],\n",
       "        [42,  4, 92],\n",
       "        [50, 99, 43]], dtype=int32),\n",
       " array([[80, 35, 13],\n",
       "        [66, 83, 20],\n",
       "        [97, 51, 65]], dtype=int32),\n",
       " '-',\n",
       " array([[[32,  2, 88],\n",
       "         [42,  4, 92],\n",
       "         [50, 99, 43]],\n",
       " \n",
       "        [[80, 35, 13],\n",
       "         [66, 83, 20],\n",
       "         [97, 51, 65]]], dtype=int32))"
      ]
     },
     "execution_count": 22,
     "metadata": {},
     "output_type": "execute_result"
    }
   ],
   "source": [
    "matriz1, matriz2, \"-\", np.stack((matriz1, matriz2), axis=0)"
   ]
  },
  {
   "cell_type": "code",
   "execution_count": null,
   "id": "104029d7-88a2-4fe8-9cc1-0749732e90d2",
   "metadata": {},
   "outputs": [],
   "source": []
  }
 ],
 "metadata": {
  "kernelspec": {
   "display_name": "Python 3 (ipykernel)",
   "language": "python",
   "name": "python3"
  },
  "language_info": {
   "codemirror_mode": {
    "name": "ipython",
    "version": 3
   },
   "file_extension": ".py",
   "mimetype": "text/x-python",
   "name": "python",
   "nbconvert_exporter": "python",
   "pygments_lexer": "ipython3",
   "version": "3.12.3"
  }
 },
 "nbformat": 4,
 "nbformat_minor": 5
}
