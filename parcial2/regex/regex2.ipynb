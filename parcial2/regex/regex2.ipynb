{
 "cells": [
  {
   "cell_type": "markdown",
   "id": "e8d0fc8d-96cf-42fc-8018-c1c8f4bbcb3f",
   "metadata": {},
   "source": [
    "# Expresiones regulares 2"
   ]
  },
  {
   "cell_type": "code",
   "execution_count": 1,
   "id": "355e8f75-adaa-495d-ba45-d2fb1ed4a28c",
   "metadata": {},
   "outputs": [],
   "source": [
    "import re "
   ]
  },
  {
   "cell_type": "code",
   "execution_count": null,
   "id": "b6707291-3ea9-4ff4-abea-227de9bf8c05",
   "metadata": {},
   "outputs": [],
   "source": [
    "cadenas = []"
   ]
  }
 ],
 "metadata": {
  "kernelspec": {
   "display_name": "Python 3 (ipykernel)",
   "language": "python",
   "name": "python3"
  },
  "language_info": {
   "codemirror_mode": {
    "name": "ipython",
    "version": 3
   },
   "file_extension": ".py",
   "mimetype": "text/x-python",
   "name": "python",
   "nbconvert_exporter": "python",
   "pygments_lexer": "ipython3",
   "version": "3.12.3"
  }
 },
 "nbformat": 4,
 "nbformat_minor": 5
}
