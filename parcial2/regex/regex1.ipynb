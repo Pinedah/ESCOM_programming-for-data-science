{
 "cells": [
  {
   "cell_type": "markdown",
   "id": "68b892ae-ba27-4a66-9745-d52582b7b044",
   "metadata": {},
   "source": [
    "# Expresiones Regulares 1\n"
   ]
  },
  {
   "cell_type": "code",
   "execution_count": 2,
   "id": "f24bd6d6-4669-42ea-be67-b231c0fea235",
   "metadata": {},
   "outputs": [],
   "source": [
    "import re\n",
    "import random"
   ]
  },
  {
   "cell_type": "code",
   "execution_count": 5,
   "id": "6b22ec10-b5be-4726-92f4-fff23c9d5afe",
   "metadata": {},
   "outputs": [],
   "source": [
    "regex = re.compile('panke')"
   ]
  },
  {
   "cell_type": "code",
   "execution_count": 12,
   "id": "05a7cbe0-fc73-4034-a746-ebe8a62f39a4",
   "metadata": {},
   "outputs": [
    {
     "name": "stdout",
     "output_type": "stream",
     "text": [
      "None\n"
     ]
    }
   ],
   "source": [
    "print(regex.match('pank'))"
   ]
  },
  {
   "cell_type": "code",
   "execution_count": 15,
   "id": "a9c5e2de-0fee-40ea-9502-f87be33c4a83",
   "metadata": {},
   "outputs": [
    {
     "name": "stdout",
     "output_type": "stream",
     "text": [
      " None\n",
      "a <re.Match object; span=(0, 1), match='a'>\n"
     ]
    }
   ],
   "source": [
    "aRegex = re.compile('a+')\n",
    "\n",
    "print('', aRegex.match(''))\n",
    "print('a', aRegex.match('a'))"
   ]
  },
  {
   "cell_type": "code",
   "execution_count": 16,
   "id": "890f7ade-4e2a-42b3-bf4a-6d0d0a612ca5",
   "metadata": {},
   "outputs": [
    {
     "name": "stdout",
     "output_type": "stream",
     "text": [
      "<To serve man>\n",
      "<To serve man> for dinner.>\n"
     ]
    }
   ],
   "source": [
    "nongreedyRegex = re.compile(r'<.*?>')\n",
    "mo1 = nongreedyRegex.search('<To serve man> for dinner>')\n",
    "print(mo1.group())\n",
    "# mo1 its nongreedy, so it will search for the shortest string\n",
    "\n",
    "greedyRegex = re.compile(r'<.*>')\n",
    "mo2 = greedyRegex.search('<To serve man> for dinner.>')\n",
    "print(mo2.group())\n",
    "# mo2 its greedy, so it will search for the longest string"
   ]
  }
 ],
 "metadata": {
  "kernelspec": {
   "display_name": "Python 3 (ipykernel)",
   "language": "python",
   "name": "python3"
  },
  "language_info": {
   "codemirror_mode": {
    "name": "ipython",
    "version": 3
   },
   "file_extension": ".py",
   "mimetype": "text/x-python",
   "name": "python",
   "nbconvert_exporter": "python",
   "pygments_lexer": "ipython3",
   "version": "3.12.3"
  }
 },
 "nbformat": 4,
 "nbformat_minor": 5
}
