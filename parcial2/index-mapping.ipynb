{
 "cells": [
  {
   "cell_type": "markdown",
   "id": "e50a33d7-1117-4a24-a72c-0faca12f6315",
   "metadata": {},
   "source": [
    "# Indexado avanzado "
   ]
  },
  {
   "cell_type": "code",
   "execution_count": 1,
   "id": "f283aa74-3c0a-4829-a23e-21f604724663",
   "metadata": {},
   "outputs": [],
   "source": [
    "import numpy as np"
   ]
  },
  {
   "cell_type": "code",
   "execution_count": 3,
   "id": "0339f997-9b52-48e4-a3d3-57948dda5d1a",
   "metadata": {},
   "outputs": [
    {
     "data": {
      "text/plain": [
       "array([[30, 22, 75, 84,  1],\n",
       "       [72, 35, 80, 93, 10],\n",
       "       [44, 68, 58, 64, 26],\n",
       "       [86, 10, 47, 34, 53],\n",
       "       [71, 18,  4, 88, 68]], dtype=int32)"
      ]
     },
     "execution_count": 3,
     "metadata": {},
     "output_type": "execute_result"
    }
   ],
   "source": [
    "aleatorios = np.random.randint(0,101, (5,5))\n",
    "aleatorios"
   ]
  },
  {
   "cell_type": "code",
   "execution_count": 4,
   "id": "84eb5471-8146-46a7-9df2-3afe5554188f",
   "metadata": {},
   "outputs": [
    {
     "data": {
      "text/plain": [
       "array([86, 10, 47, 34, 53], dtype=int32)"
      ]
     },
     "execution_count": 4,
     "metadata": {},
     "output_type": "execute_result"
    }
   ],
   "source": [
    "aleatorios[3]"
   ]
  },
  {
   "cell_type": "code",
   "execution_count": 5,
   "id": "7ff75c5e-46b0-42fa-a3c6-afd4b1dda9f5",
   "metadata": {},
   "outputs": [
    {
     "data": {
      "text/plain": [
       "array([75, 80, 58, 47,  4], dtype=int32)"
      ]
     },
     "execution_count": 5,
     "metadata": {},
     "output_type": "execute_result"
    }
   ],
   "source": [
    "aleatorios[:, 2]"
   ]
  },
  {
   "cell_type": "code",
   "execution_count": 6,
   "id": "3f804c34-70c0-4375-b25b-593b987f8c42",
   "metadata": {},
   "outputs": [
    {
     "data": {
      "text/plain": [
       "array([[30, 75,  1],\n",
       "       [44, 58, 26],\n",
       "       [71,  4, 68]], dtype=int32)"
      ]
     },
     "execution_count": 6,
     "metadata": {},
     "output_type": "execute_result"
    }
   ],
   "source": [
    "aleatorios[::2, ::2]"
   ]
  },
  {
   "cell_type": "code",
   "execution_count": 7,
   "id": "1c9b40ad-bc9f-4f14-8ab4-dfae4bb1e7f1",
   "metadata": {},
   "outputs": [
    {
     "data": {
      "text/plain": [
       "array([[30, 22, 75, 84,  1],\n",
       "       [72, 35, 80, 93, 10],\n",
       "       [71, 18,  4, 88, 68]], dtype=int32)"
      ]
     },
     "execution_count": 7,
     "metadata": {},
     "output_type": "execute_result"
    }
   ],
   "source": [
    "# Indexado avanzado\n",
    "aleatorios[[0,1,4], :]"
   ]
  },
  {
   "cell_type": "code",
   "execution_count": 8,
   "id": "97478d7e-cf74-4fbb-a699-9c64b9999335",
   "metadata": {},
   "outputs": [
    {
     "name": "stdout",
     "output_type": "stream",
     "text": [
      "[[30 22 75 84  1]\n",
      " [72 35 80 93 10]\n",
      " [44 68 58 64 26]\n",
      " [86 10 47 34 53]\n",
      " [71 18  4 88 68]]\n"
     ]
    },
    {
     "data": {
      "text/plain": [
       "array([22, 80, 64], dtype=int32)"
      ]
     },
     "execution_count": 8,
     "metadata": {},
     "output_type": "execute_result"
    }
   ],
   "source": [
    "print(aleatorios)\n",
    "aleatorios[[0,1,2], [1,2,3]]"
   ]
  },
  {
   "cell_type": "markdown",
   "id": "be65955f-326a-4a7d-b8ae-a647441ec66a",
   "metadata": {},
   "source": [
    "# Mapping"
   ]
  },
  {
   "cell_type": "code",
   "execution_count": 9,
   "id": "a4c997c9-7fe8-4924-8a44-3008d93b84e1",
   "metadata": {},
   "outputs": [
    {
     "data": {
      "text/plain": [
       "array([[ True,  True, False, False,  True],\n",
       "       [False,  True, False, False,  True],\n",
       "       [ True, False, False, False,  True],\n",
       "       [False,  True,  True,  True, False],\n",
       "       [False,  True,  True, False, False]])"
      ]
     },
     "execution_count": 9,
     "metadata": {},
     "output_type": "execute_result"
    }
   ],
   "source": [
    "# Aplicar condiciones a un solo arreglo\n",
    "aleatorios < 50"
   ]
  },
  {
   "cell_type": "code",
   "execution_count": 10,
   "id": "29c70226-1ba6-41ed-961e-513a8fbf3f84",
   "metadata": {},
   "outputs": [
    {
     "data": {
      "text/plain": [
       "array([30, 22,  1, 35, 10, 44, 26, 10, 47, 34, 18,  4], dtype=int32)"
      ]
     },
     "execution_count": 10,
     "metadata": {},
     "output_type": "execute_result"
    }
   ],
   "source": [
    "aleatorios[aleatorios < 50 ]"
   ]
  },
  {
   "cell_type": "code",
   "execution_count": 14,
   "id": "9e13700f-2375-48e9-bb6f-767c1c36d2f3",
   "metadata": {},
   "outputs": [
    {
     "data": {
      "text/plain": [
       "array([[ True,  True, False, False, False],\n",
       "       [False, False, False, False, False],\n",
       "       [False, False, False, False,  True],\n",
       "       [False, False, False, False, False],\n",
       "       [False,  True, False, False, False]])"
      ]
     },
     "execution_count": 14,
     "metadata": {},
     "output_type": "execute_result"
    }
   ],
   "source": [
    "#  Mapping con dos condiciones\n",
    "(aleatorios > 15) & (aleatorios <= 30)"
   ]
  },
  {
   "cell_type": "code",
   "execution_count": 13,
   "id": "d2a6ed81-51c0-40ca-a185-234863138d75",
   "metadata": {},
   "outputs": [
    {
     "data": {
      "text/plain": [
       "array([30, 22, 26, 18], dtype=int32)"
      ]
     },
     "execution_count": 13,
     "metadata": {},
     "output_type": "execute_result"
    }
   ],
   "source": [
    "aleatorios[(aleatorios > 15) & (aleatorios <= 30)]"
   ]
  },
  {
   "cell_type": "code",
   "execution_count": 15,
   "id": "62be52b8-61a6-4ae8-82aa-32e9ec040439",
   "metadata": {},
   "outputs": [
    {
     "data": {
      "text/plain": [
       "25"
      ]
     },
     "execution_count": 15,
     "metadata": {},
     "output_type": "execute_result"
    }
   ],
   "source": [
    "aleatorios.size"
   ]
  },
  {
   "cell_type": "code",
   "execution_count": 16,
   "id": "01229fc3-c4cd-4bae-b8a5-13e0f667ed8b",
   "metadata": {},
   "outputs": [
    {
     "data": {
      "text/plain": [
       "23"
      ]
     },
     "execution_count": 16,
     "metadata": {},
     "output_type": "execute_result"
    }
   ],
   "source": [
    "aleatorios[aleatorios != 10].size"
   ]
  },
  {
   "cell_type": "code",
   "execution_count": 17,
   "id": "f54f50b2-f90d-437f-88a1-a13fc105d023",
   "metadata": {},
   "outputs": [
    {
     "data": {
      "text/plain": [
       "0"
      ]
     },
     "execution_count": 17,
     "metadata": {},
     "output_type": "execute_result"
    }
   ],
   "source": [
    "# Ya que son conjuntos disjuntos y la inteseccion es el vacio\n",
    "aleatorios[(aleatorios < 10) & (aleatorios > 90)].size"
   ]
  },
  {
   "cell_type": "code",
   "execution_count": 18,
   "id": "d27de2d1-6dfd-4517-9bb7-78aa98ee2317",
   "metadata": {},
   "outputs": [
    {
     "data": {
      "text/plain": [
       "3"
      ]
     },
     "execution_count": 18,
     "metadata": {},
     "output_type": "execute_result"
    }
   ],
   "source": [
    "# Usando el operador OR\n",
    "aleatorios[(aleatorios < 10) | (aleatorios > 90)].size"
   ]
  },
  {
   "cell_type": "code",
   "execution_count": null,
   "id": "7708c3b9-4d5b-46a3-9a66-febcc7ad8b73",
   "metadata": {},
   "outputs": [],
   "source": []
  }
 ],
 "metadata": {
  "kernelspec": {
   "display_name": "Python 3 (ipykernel)",
   "language": "python",
   "name": "python3"
  },
  "language_info": {
   "codemirror_mode": {
    "name": "ipython",
    "version": 3
   },
   "file_extension": ".py",
   "mimetype": "text/x-python",
   "name": "python",
   "nbconvert_exporter": "python",
   "pygments_lexer": "ipython3",
   "version": "3.12.3"
  }
 },
 "nbformat": 4,
 "nbformat_minor": 5
}
