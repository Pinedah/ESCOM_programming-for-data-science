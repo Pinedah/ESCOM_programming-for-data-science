{
 "cells": [
  {
   "cell_type": "markdown",
   "id": "84343116-76ae-42b6-950c-fe7b19b9b0ff",
   "metadata": {},
   "source": [
    "# Pandas"
   ]
  },
  {
   "cell_type": "code",
   "execution_count": 3,
   "id": "38b46f2f-5066-489f-841f-06fed58c3c1b",
   "metadata": {},
   "outputs": [],
   "source": [
    "import pandas as pd"
   ]
  },
  {
   "cell_type": "code",
   "execution_count": 15,
   "id": "b6bd83af-4edb-4803-8494-61aa36ac9757",
   "metadata": {},
   "outputs": [
    {
     "data": {
      "text/html": [
       "<div>\n",
       "<style scoped>\n",
       "    .dataframe tbody tr th:only-of-type {\n",
       "        vertical-align: middle;\n",
       "    }\n",
       "\n",
       "    .dataframe tbody tr th {\n",
       "        vertical-align: top;\n",
       "    }\n",
       "\n",
       "    .dataframe thead th {\n",
       "        text-align: right;\n",
       "    }\n",
       "</style>\n",
       "<table border=\"1\" class=\"dataframe\">\n",
       "  <thead>\n",
       "    <tr style=\"text-align: right;\">\n",
       "      <th></th>\n",
       "      <th>Nombre</th>\n",
       "      <th>Edad</th>\n",
       "    </tr>\n",
       "  </thead>\n",
       "  <tbody>\n",
       "    <tr>\n",
       "      <th>0</th>\n",
       "      <td>Alex</td>\n",
       "      <td>30</td>\n",
       "    </tr>\n",
       "    <tr>\n",
       "      <th>1</th>\n",
       "      <td>Roger</td>\n",
       "      <td>29</td>\n",
       "    </tr>\n",
       "    <tr>\n",
       "      <th>2</th>\n",
       "      <td>Rafa</td>\n",
       "      <td>28</td>\n",
       "    </tr>\n",
       "    <tr>\n",
       "      <th>3</th>\n",
       "      <td>Adrian</td>\n",
       "      <td>31</td>\n",
       "    </tr>\n",
       "    <tr>\n",
       "      <th>4</th>\n",
       "      <td>None</td>\n",
       "      <td>30</td>\n",
       "    </tr>\n",
       "  </tbody>\n",
       "</table>\n",
       "</div>"
      ],
      "text/plain": [
       "   Nombre  Edad\n",
       "0    Alex    30\n",
       "1   Roger    29\n",
       "2    Rafa    28\n",
       "3  Adrian    31\n",
       "4    None    30"
      ]
     },
     "execution_count": 15,
     "metadata": {},
     "output_type": "execute_result"
    }
   ],
   "source": [
    "dic = {'Nombre': ['Alex', 'Roger', 'Rafa', 'Adrian', None], 'Edad': [30, 29, 28, 31, 30]}\n",
    "lista = pd.DataFrame(dic)\n",
    "lista"
   ]
  },
  {
   "cell_type": "code",
   "execution_count": 23,
   "id": "9df3b5cf-abda-4553-9bb4-acb8b2b04f27",
   "metadata": {},
   "outputs": [
    {
     "data": {
      "text/plain": [
       "pandas.core.frame.DataFrame"
      ]
     },
     "execution_count": 23,
     "metadata": {},
     "output_type": "execute_result"
    }
   ],
   "source": [
    "type(lista)"
   ]
  },
  {
   "cell_type": "code",
   "execution_count": 25,
   "id": "6e87ab90-a1ff-42bc-a354-dac42b1b73f2",
   "metadata": {},
   "outputs": [
    {
     "data": {
      "text/plain": [
       "pandas.core.series.Series"
      ]
     },
     "execution_count": 25,
     "metadata": {},
     "output_type": "execute_result"
    }
   ],
   "source": [
    "type(lista['Nombre']) # las columnas se les llama series"
   ]
  },
  {
   "cell_type": "code",
   "execution_count": 26,
   "id": "d6ac7743-a894-4012-a765-6edb10c31c68",
   "metadata": {},
   "outputs": [
    {
     "data": {
      "text/plain": [
       "(0      Alex\n",
       " 1     Roger\n",
       " 2      Rafa\n",
       " 3    Adrian\n",
       " 4      None\n",
       " Name: Nombre, dtype: object,\n",
       " 0    30\n",
       " 1    29\n",
       " 2    28\n",
       " 3    31\n",
       " 4    30\n",
       " Name: Edad, dtype: int64)"
      ]
     },
     "execution_count": 26,
     "metadata": {},
     "output_type": "execute_result"
    }
   ],
   "source": [
    "lista['Nombre'], lista['Edad']"
   ]
  },
  {
   "cell_type": "code",
   "execution_count": 31,
   "id": "3d57c84f-f3b2-4d70-b7b9-5ebaf8c034e5",
   "metadata": {},
   "outputs": [
    {
     "data": {
      "text/plain": [
       "1     Roger\n",
       "2      Rafa\n",
       "3    Adrian\n",
       "4      None\n",
       "Name: Nombre, dtype: object"
      ]
     },
     "execution_count": 31,
     "metadata": {},
     "output_type": "execute_result"
    }
   ],
   "source": [
    "lista['Nombre'][1:]"
   ]
  },
  {
   "cell_type": "code",
   "execution_count": 32,
   "id": "16b959a4-9f38-4a8a-b3eb-2dd5ae108198",
   "metadata": {},
   "outputs": [
    {
     "data": {
      "text/plain": [
       "np.int64(28)"
      ]
     },
     "execution_count": 32,
     "metadata": {},
     "output_type": "execute_result"
    }
   ],
   "source": [
    "lista['Edad'][2]"
   ]
  },
  {
   "cell_type": "code",
   "execution_count": 33,
   "id": "fa2bcc0e-64da-4f2e-88a3-efe11edbda91",
   "metadata": {},
   "outputs": [
    {
     "data": {
      "text/plain": [
       "numpy.int64"
      ]
     },
     "execution_count": 33,
     "metadata": {},
     "output_type": "execute_result"
    }
   ],
   "source": [
    "type(lista['Edad'][2])"
   ]
  },
  {
   "cell_type": "code",
   "execution_count": 34,
   "id": "c09d5793-9e76-4f46-868a-bb9222801513",
   "metadata": {},
   "outputs": [
    {
     "data": {
      "text/plain": [
       "Nombre    Rafa\n",
       "Edad        28\n",
       "Name: 2, dtype: object"
      ]
     },
     "execution_count": 34,
     "metadata": {},
     "output_type": "execute_result"
    }
   ],
   "source": [
    "lista.loc[2]"
   ]
  },
  {
   "cell_type": "code",
   "execution_count": 35,
   "id": "4b9d63bd-64d0-4622-9add-6e99e339a358",
   "metadata": {},
   "outputs": [
    {
     "data": {
      "text/plain": [
       "Nombre    Rafa\n",
       "Edad        28\n",
       "Name: 2, dtype: object"
      ]
     },
     "execution_count": 35,
     "metadata": {},
     "output_type": "execute_result"
    }
   ],
   "source": [
    "lista.iloc[2]"
   ]
  },
  {
   "cell_type": "code",
   "execution_count": 38,
   "id": "a66d20be-7b7d-4f4a-be98-6359512c8a11",
   "metadata": {},
   "outputs": [
    {
     "data": {
      "text/html": [
       "<div>\n",
       "<style scoped>\n",
       "    .dataframe tbody tr th:only-of-type {\n",
       "        vertical-align: middle;\n",
       "    }\n",
       "\n",
       "    .dataframe tbody tr th {\n",
       "        vertical-align: top;\n",
       "    }\n",
       "\n",
       "    .dataframe thead th {\n",
       "        text-align: right;\n",
       "    }\n",
       "</style>\n",
       "<table border=\"1\" class=\"dataframe\">\n",
       "  <thead>\n",
       "    <tr style=\"text-align: right;\">\n",
       "      <th></th>\n",
       "      <th>Progra</th>\n",
       "      <th>Mate</th>\n",
       "      <th>AI</th>\n",
       "    </tr>\n",
       "  </thead>\n",
       "  <tbody>\n",
       "    <tr>\n",
       "      <th>Panke</th>\n",
       "      <td>9</td>\n",
       "      <td>6</td>\n",
       "      <td>9</td>\n",
       "    </tr>\n",
       "    <tr>\n",
       "      <th>Faxinaar</th>\n",
       "      <td>8</td>\n",
       "      <td>5</td>\n",
       "      <td>8</td>\n",
       "    </tr>\n",
       "    <tr>\n",
       "      <th>Puercules</th>\n",
       "      <td>7</td>\n",
       "      <td>4</td>\n",
       "      <td>7</td>\n",
       "    </tr>\n",
       "    <tr>\n",
       "      <th>Kanye West</th>\n",
       "      <td>6</td>\n",
       "      <td>3</td>\n",
       "      <td>6</td>\n",
       "    </tr>\n",
       "  </tbody>\n",
       "</table>\n",
       "</div>"
      ],
      "text/plain": [
       "            Progra  Mate  AI\n",
       "Panke            9     6   9\n",
       "Faxinaar         8     5   8\n",
       "Puercules        7     4   7\n",
       "Kanye West       6     3   6"
      ]
     },
     "execution_count": 38,
     "metadata": {},
     "output_type": "execute_result"
    }
   ],
   "source": [
    "alumnos = pd.DataFrame({'Progra': [9,8,7,6], 'Mate': [6,5,4,3], 'AI': [9,8,7,6]}, index = ['Panke', 'Faxinaar', 'Puercules', 'Kanye West'])\n",
    "alumnos"
   ]
  },
  {
   "cell_type": "code",
   "execution_count": 39,
   "id": "5dda2c9c-60e5-4168-b809-d3f785acf605",
   "metadata": {},
   "outputs": [
    {
     "data": {
      "text/plain": [
       "Panke         9\n",
       "Faxinaar      8\n",
       "Puercules     7\n",
       "Kanye West    6\n",
       "Name: Progra, dtype: int64"
      ]
     },
     "execution_count": 39,
     "metadata": {},
     "output_type": "execute_result"
    }
   ],
   "source": [
    "alumnos['Progra']"
   ]
  },
  {
   "cell_type": "code",
   "execution_count": 40,
   "id": "80432303-b0e6-4afe-a116-7ba97f2de5ed",
   "metadata": {},
   "outputs": [
    {
     "data": {
      "text/plain": [
       "Panke         6\n",
       "Faxinaar      5\n",
       "Puercules     4\n",
       "Kanye West    3\n",
       "Name: Mate, dtype: int64"
      ]
     },
     "execution_count": 40,
     "metadata": {},
     "output_type": "execute_result"
    }
   ],
   "source": [
    "alumnos['Mate']"
   ]
  },
  {
   "cell_type": "code",
   "execution_count": 42,
   "id": "a7cf3120-45cc-4838-8e6a-57852deda6b0",
   "metadata": {},
   "outputs": [
    {
     "data": {
      "text/plain": [
       "Panke         9\n",
       "Faxinaar      8\n",
       "Puercules     7\n",
       "Kanye West    6\n",
       "Name: AI, dtype: int64"
      ]
     },
     "execution_count": 42,
     "metadata": {},
     "output_type": "execute_result"
    }
   ],
   "source": [
    "alumnos['AI']"
   ]
  },
  {
   "cell_type": "code",
   "execution_count": 47,
   "id": "7a695077-d770-4ecc-808d-252f20b6c85b",
   "metadata": {},
   "outputs": [
    {
     "data": {
      "text/plain": [
       "np.float64(8.0)"
      ]
     },
     "execution_count": 47,
     "metadata": {},
     "output_type": "execute_result"
    }
   ],
   "source": [
    "alumnos.loc['Panke'].mean()"
   ]
  },
  {
   "cell_type": "code",
   "execution_count": 52,
   "id": "2c5249aa-57e0-4435-b558-aff5532ed40f",
   "metadata": {},
   "outputs": [
    {
     "data": {
      "text/plain": [
       "Progra    6\n",
       "Mate      3\n",
       "AI        6\n",
       "Name: Kanye West, dtype: int64"
      ]
     },
     "execution_count": 52,
     "metadata": {},
     "output_type": "execute_result"
    }
   ],
   "source": [
    "alumnos.iloc[-1]"
   ]
  },
  {
   "cell_type": "code",
   "execution_count": 51,
   "id": "4ca72946-7421-4e50-9841-1896553a37f3",
   "metadata": {},
   "outputs": [
    {
     "data": {
      "text/plain": [
       "Progra    6\n",
       "Mate      3\n",
       "AI        6\n",
       "Name: Kanye West, dtype: int64"
      ]
     },
     "execution_count": 51,
     "metadata": {},
     "output_type": "execute_result"
    }
   ],
   "source": [
    "alumnos.loc['Kanye West']"
   ]
  },
  {
   "cell_type": "code",
   "execution_count": null,
   "id": "a43c5ab9-4f93-43a6-9aff-e0ce92a39a8e",
   "metadata": {},
   "outputs": [],
   "source": []
  }
 ],
 "metadata": {
  "kernelspec": {
   "display_name": "Python 3 (ipykernel)",
   "language": "python",
   "name": "python3"
  },
  "language_info": {
   "codemirror_mode": {
    "name": "ipython",
    "version": 3
   },
   "file_extension": ".py",
   "mimetype": "text/x-python",
   "name": "python",
   "nbconvert_exporter": "python",
   "pygments_lexer": "ipython3",
   "version": "3.12.3"
  }
 },
 "nbformat": 4,
 "nbformat_minor": 5
}
