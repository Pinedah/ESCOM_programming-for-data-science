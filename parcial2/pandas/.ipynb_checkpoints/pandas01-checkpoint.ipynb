{
 "cells": [
  {
   "cell_type": "markdown",
   "id": "84343116-76ae-42b6-950c-fe7b19b9b0ff",
   "metadata": {},
   "source": [
    "# Pandas"
   ]
  },
  {
   "cell_type": "code",
   "execution_count": 3,
   "id": "38b46f2f-5066-489f-841f-06fed58c3c1b",
   "metadata": {},
   "outputs": [],
   "source": [
    "import pandas as pd"
   ]
  },
  {
   "cell_type": "code",
   "execution_count": 15,
   "id": "b6bd83af-4edb-4803-8494-61aa36ac9757",
   "metadata": {},
   "outputs": [
    {
     "data": {
      "text/html": [
       "<div>\n",
       "<style scoped>\n",
       "    .dataframe tbody tr th:only-of-type {\n",
       "        vertical-align: middle;\n",
       "    }\n",
       "\n",
       "    .dataframe tbody tr th {\n",
       "        vertical-align: top;\n",
       "    }\n",
       "\n",
       "    .dataframe thead th {\n",
       "        text-align: right;\n",
       "    }\n",
       "</style>\n",
       "<table border=\"1\" class=\"dataframe\">\n",
       "  <thead>\n",
       "    <tr style=\"text-align: right;\">\n",
       "      <th></th>\n",
       "      <th>Nombre</th>\n",
       "      <th>Edad</th>\n",
       "    </tr>\n",
       "  </thead>\n",
       "  <tbody>\n",
       "    <tr>\n",
       "      <th>0</th>\n",
       "      <td>Alex</td>\n",
       "      <td>30</td>\n",
       "    </tr>\n",
       "    <tr>\n",
       "      <th>1</th>\n",
       "      <td>Roger</td>\n",
       "      <td>29</td>\n",
       "    </tr>\n",
       "    <tr>\n",
       "      <th>2</th>\n",
       "      <td>Rafa</td>\n",
       "      <td>28</td>\n",
       "    </tr>\n",
       "    <tr>\n",
       "      <th>3</th>\n",
       "      <td>Adrian</td>\n",
       "      <td>31</td>\n",
       "    </tr>\n",
       "    <tr>\n",
       "      <th>4</th>\n",
       "      <td>None</td>\n",
       "      <td>30</td>\n",
       "    </tr>\n",
       "  </tbody>\n",
       "</table>\n",
       "</div>"
      ],
      "text/plain": [
       "   Nombre  Edad\n",
       "0    Alex    30\n",
       "1   Roger    29\n",
       "2    Rafa    28\n",
       "3  Adrian    31\n",
       "4    None    30"
      ]
     },
     "execution_count": 15,
     "metadata": {},
     "output_type": "execute_result"
    }
   ],
   "source": [
    "dic = {'Nombre': ['Alex', 'Roger', 'Rafa', 'Adrian', None], 'Edad': [30, 29, 28, 31, 30]}\n",
    "lista = pd.DataFrame(dic)\n",
    "lista"
   ]
  },
  {
   "cell_type": "code",
   "execution_count": 23,
   "id": "9df3b5cf-abda-4553-9bb4-acb8b2b04f27",
   "metadata": {},
   "outputs": [
    {
     "data": {
      "text/plain": [
       "pandas.core.frame.DataFrame"
      ]
     },
     "execution_count": 23,
     "metadata": {},
     "output_type": "execute_result"
    }
   ],
   "source": [
    "type(lista)"
   ]
  },
  {
   "cell_type": "code",
   "execution_count": 25,
   "id": "6e87ab90-a1ff-42bc-a354-dac42b1b73f2",
   "metadata": {},
   "outputs": [
    {
     "data": {
      "text/plain": [
       "pandas.core.series.Series"
      ]
     },
     "execution_count": 25,
     "metadata": {},
     "output_type": "execute_result"
    }
   ],
   "source": [
    "type(lista['Nombre']) # las columnas se les llama series"
   ]
  },
  {
   "cell_type": "code",
   "execution_count": 26,
   "id": "d6ac7743-a894-4012-a765-6edb10c31c68",
   "metadata": {},
   "outputs": [
    {
     "data": {
      "text/plain": [
       "(0      Alex\n",
       " 1     Roger\n",
       " 2      Rafa\n",
       " 3    Adrian\n",
       " 4      None\n",
       " Name: Nombre, dtype: object,\n",
       " 0    30\n",
       " 1    29\n",
       " 2    28\n",
       " 3    31\n",
       " 4    30\n",
       " Name: Edad, dtype: int64)"
      ]
     },
     "execution_count": 26,
     "metadata": {},
     "output_type": "execute_result"
    }
   ],
   "source": [
    "lista['Nombre'], lista['Edad']"
   ]
  },
  {
   "cell_type": "code",
   "execution_count": 31,
   "id": "3d57c84f-f3b2-4d70-b7b9-5ebaf8c034e5",
   "metadata": {},
   "outputs": [
    {
     "data": {
      "text/plain": [
       "1     Roger\n",
       "2      Rafa\n",
       "3    Adrian\n",
       "4      None\n",
       "Name: Nombre, dtype: object"
      ]
     },
     "execution_count": 31,
     "metadata": {},
     "output_type": "execute_result"
    }
   ],
   "source": [
    "lista['Nombre'][1:]"
   ]
  },
  {
   "cell_type": "code",
   "execution_count": 32,
   "id": "16b959a4-9f38-4a8a-b3eb-2dd5ae108198",
   "metadata": {},
   "outputs": [
    {
     "data": {
      "text/plain": [
       "np.int64(28)"
      ]
     },
     "execution_count": 32,
     "metadata": {},
     "output_type": "execute_result"
    }
   ],
   "source": [
    "lista['Edad'][2]"
   ]
  },
  {
   "cell_type": "code",
   "execution_count": null,
   "id": "fa2bcc0e-64da-4f2e-88a3-efe11edbda91",
   "metadata": {},
   "outputs": [],
   "source": []
  }
 ],
 "metadata": {
  "kernelspec": {
   "display_name": "Python 3 (ipykernel)",
   "language": "python",
   "name": "python3"
  },
  "language_info": {
   "codemirror_mode": {
    "name": "ipython",
    "version": 3
   },
   "file_extension": ".py",
   "mimetype": "text/x-python",
   "name": "python",
   "nbconvert_exporter": "python",
   "pygments_lexer": "ipython3",
   "version": "3.12.3"
  }
 },
 "nbformat": 4,
 "nbformat_minor": 5
}
